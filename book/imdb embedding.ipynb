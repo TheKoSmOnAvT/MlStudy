{
 "cells": [
  {
   "cell_type": "code",
   "execution_count": 2,
   "id": "37a92576",
   "metadata": {},
   "outputs": [],
   "source": [
    "from keras.datasets import imdb\n",
    "from keras import preprocessing"
   ]
  },
  {
   "cell_type": "code",
   "execution_count": 4,
   "id": "53fde3bb",
   "metadata": {},
   "outputs": [],
   "source": [
    "max_features = 10000\n",
    "maxlen = 10\n",
    "\n",
    "(x_train, y_train), (x_test, y_test) = imdb.load_data(num_words = max_features)\n",
    "\n",
    "x_train = preprocessing.sequence.pad_sequences(x_train, maxlen=maxlen)\n",
    "x_test = preprocessing.sequence.pad_sequences(x_test, maxlen=maxlen)\n"
   ]
  },
  {
   "cell_type": "code",
   "execution_count": 6,
   "id": "9ea2c5b4",
   "metadata": {},
   "outputs": [
    {
     "name": "stdout",
     "output_type": "stream",
     "text": [
      "Model: \"sequential_1\"\n",
      "_________________________________________________________________\n",
      " Layer (type)                Output Shape              Param #   \n",
      "=================================================================\n",
      " embedding (Embedding)       (None, 10, 8)             80000     \n",
      "                                                                 \n",
      " flatten (Flatten)           (None, 80)                0         \n",
      "                                                                 \n",
      " dense (Dense)               (None, 1)                 81        \n",
      "                                                                 \n",
      "=================================================================\n",
      "Total params: 80,081\n",
      "Trainable params: 80,081\n",
      "Non-trainable params: 0\n",
      "_________________________________________________________________\n"
     ]
    }
   ],
   "source": [
    "from keras.models import Sequential\n",
    "from keras.layers import Flatten,Dense, Embedding\n",
    "\n",
    "model = Sequential()\n",
    "model.add(Embedding(10000, 8, input_length=maxlen))\n",
    "model.add(Flatten())\n",
    "model.add(Dense(1,activation='sigmoid'))\n",
    "model.compile(optimizer='rmsprop', loss='binary_crossentropy', metrics=['acc'])\n",
    "model.summary()"
   ]
  },
  {
   "cell_type": "code",
   "execution_count": 7,
   "id": "dde20fd8",
   "metadata": {},
   "outputs": [
    {
     "name": "stdout",
     "output_type": "stream",
     "text": [
      "Epoch 1/10\n",
      "625/625 [==============================] - 3s 2ms/step - loss: 0.6787 - acc: 0.5953 - val_loss: 0.6507 - val_acc: 0.6658\n",
      "Epoch 2/10\n",
      "625/625 [==============================] - 1s 2ms/step - loss: 0.5974 - acc: 0.7090 - val_loss: 0.5793 - val_acc: 0.6958\n",
      "Epoch 3/10\n",
      "625/625 [==============================] - 1s 2ms/step - loss: 0.5264 - acc: 0.7445 - val_loss: 0.5500 - val_acc: 0.7132\n",
      "Epoch 4/10\n",
      "625/625 [==============================] - 1s 2ms/step - loss: 0.4865 - acc: 0.7681 - val_loss: 0.5427 - val_acc: 0.7112\n",
      "Epoch 5/10\n",
      "625/625 [==============================] - 1s 2ms/step - loss: 0.4600 - acc: 0.7862 - val_loss: 0.5416 - val_acc: 0.7196\n",
      "Epoch 6/10\n",
      "625/625 [==============================] - 1s 2ms/step - loss: 0.4389 - acc: 0.8003 - val_loss: 0.5454 - val_acc: 0.7180\n",
      "Epoch 7/10\n",
      "625/625 [==============================] - 1s 2ms/step - loss: 0.4199 - acc: 0.8133 - val_loss: 0.5517 - val_acc: 0.7158\n",
      "Epoch 8/10\n",
      "625/625 [==============================] - 1s 2ms/step - loss: 0.4024 - acc: 0.8237 - val_loss: 0.5574 - val_acc: 0.7166\n",
      "Epoch 9/10\n",
      "625/625 [==============================] - 1s 2ms/step - loss: 0.3866 - acc: 0.8320 - val_loss: 0.5656 - val_acc: 0.7136\n",
      "Epoch 10/10\n",
      "625/625 [==============================] - 1s 2ms/step - loss: 0.3710 - acc: 0.8415 - val_loss: 0.5729 - val_acc: 0.7136\n"
     ]
    }
   ],
   "source": [
    "history = model.fit(x_train, y_train, epochs=10, batch_size=32, validation_split=0.2)"
   ]
  },
  {
   "cell_type": "code",
   "execution_count": 8,
   "id": "63376cd2",
   "metadata": {},
   "outputs": [
    {
     "data": {
      "text/plain": [
       "{'loss': [0.6786766648292542,\n",
       "  0.5974303483963013,\n",
       "  0.5263921618461609,\n",
       "  0.4864629805088043,\n",
       "  0.4600333869457245,\n",
       "  0.4388945698738098,\n",
       "  0.41993963718414307,\n",
       "  0.40237849950790405,\n",
       "  0.386553019285202,\n",
       "  0.37098437547683716],\n",
       " 'acc': [0.595300018787384,\n",
       "  0.7090499997138977,\n",
       "  0.7445499897003174,\n",
       "  0.7681499719619751,\n",
       "  0.7862499952316284,\n",
       "  0.8003000020980835,\n",
       "  0.8133000135421753,\n",
       "  0.8237000107765198,\n",
       "  0.8319500088691711,\n",
       "  0.8414999842643738],\n",
       " 'val_loss': [0.6506699919700623,\n",
       "  0.5793092250823975,\n",
       "  0.5499537587165833,\n",
       "  0.5426629781723022,\n",
       "  0.5415732860565186,\n",
       "  0.5454071760177612,\n",
       "  0.5516781806945801,\n",
       "  0.5574406385421753,\n",
       "  0.5656341314315796,\n",
       "  0.5728721022605896],\n",
       " 'val_acc': [0.6657999753952026,\n",
       "  0.6958000063896179,\n",
       "  0.7131999731063843,\n",
       "  0.7111999988555908,\n",
       "  0.7196000218391418,\n",
       "  0.7179999947547913,\n",
       "  0.7157999873161316,\n",
       "  0.7166000008583069,\n",
       "  0.7135999798774719,\n",
       "  0.7135999798774719]}"
      ]
     },
     "execution_count": 8,
     "metadata": {},
     "output_type": "execute_result"
    }
   ],
   "source": [
    "history.history"
   ]
  },
  {
   "cell_type": "code",
   "execution_count": 15,
   "id": "016de960",
   "metadata": {},
   "outputs": [
    {
     "data": {
      "text/plain": [
       "[<matplotlib.lines.Line2D at 0x2c0e6f0e760>]"
      ]
     },
     "execution_count": 15,
     "metadata": {},
     "output_type": "execute_result"
    },
    {
     "data": {
      "image/png": "[encoded data removed]",
      "text/plain": [
       "<Figure size 432x288 with 1 Axes>"
      ]
     },
     "metadata": {
      "needs_background": "light"
     },
     "output_type": "display_data"
    }
   ],
   "source": [
    "import matplotlib.pyplot as plt\n",
    "\n",
    "plt.plot(range(0,10), history.history['acc'])\n",
    "plt.plot(range(0,10), history.history['val_acc'])"
   ]
  },
  {
   "cell_type": "code",
   "execution_count": 14,
   "id": "9228c1ad",
   "metadata": {},
   "outputs": [
    {
     "data": {
      "text/plain": [
       "[<matplotlib.lines.Line2D at 0x2c0e6eaa4c0>]"
      ]
     },
     "execution_count": 14,
     "metadata": {},
     "output_type": "execute_result"
    },
    {
     "data": {
      "image/png": "[encoded data removed]",
      "text/plain": [
       "<Figure size 432x288 with 1 Axes>"
      ]
     },
     "metadata": {
      "needs_background": "light"
     },
     "output_type": "display_data"
    }
   ],
   "source": [
    "import matplotlib.pyplot as plt\n",
    "\n",
    "plt.plot(range(0,10), history.history['loss'])\n",
    "plt.plot(range(0,10), history.history['val_loss'])"
   ]
  },
  {
   "cell_type": "code",
   "execution_count": null,
   "id": "9cb75530",
   "metadata": {},
   "outputs": [],
   "source": []
  }
 ],
 "metadata": {
  "kernelspec": {
   "display_name": "Python 3 (ipykernel)",
   "language": "python",
   "name": "python3"
  },
  "language_info": {
   "codemirror_mode": {
    "name": "ipython",
    "version": 3
   },
   "file_extension": ".py",
   "mimetype": "text/x-python",
   "name": "python",
   "nbconvert_exporter": "python",
   "pygments_lexer": "ipython3",
   "version": "3.9.6"
  }
 },
 "nbformat": 4,
 "nbformat_minor": 5
}
