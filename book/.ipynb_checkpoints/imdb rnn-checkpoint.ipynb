{
 "cells": [
  {
   "cell_type": "code",
   "execution_count": 1,
   "id": "95ac7696",
   "metadata": {},
   "outputs": [],
   "source": [
    "from keras.datasets import imdb\n",
    "from keras.preprocessing import sequence"
   ]
  },
  {
   "cell_type": "code",
   "execution_count": 2,
   "id": "fefef8e2",
   "metadata": {},
   "outputs": [],
   "source": [
    "max_features = 10000\n",
    "maxlen = 500\n",
    "batch_size = 32\n"
   ]
  },
  {
   "cell_type": "code",
   "execution_count": 3,
   "id": "89e835d5",
   "metadata": {},
   "outputs": [],
   "source": [
    "(input_train, y_train), (input_test, y_test) = imdb.load_data(num_words=max_features)"
   ]
  },
  {
   "cell_type": "code",
   "execution_count": 4,
   "id": "ee389e00",
   "metadata": {},
   "outputs": [],
   "source": [
    "input_train = sequence.pad_sequences(input_train, maxlen=maxlen)\n",
    "input_test = sequence.pad_sequences(input_test, maxlen=maxlen)"
   ]
  },
  {
   "cell_type": "code",
   "execution_count": 7,
   "id": "9e885ccd",
   "metadata": {},
   "outputs": [],
   "source": [
    "from keras.models import Sequential\n",
    "from keras.layers import Embedding, SimpleRNN, Dense\n",
    "\n",
    "model = Sequential()\n",
    "model.add(Embedding(max_features,32))\n",
    "model.add(SimpleRNN(32))\n",
    "model.add(Dense(1,activation='sigmoid'))\n",
    "model.compile(optimizer='rmsprop', loss='binary_crossentropy', metrics=['acc'])"
   ]
  },
  {
   "cell_type": "code",
   "execution_count": 8,
   "id": "0bcefde0",
   "metadata": {},
   "outputs": [
    {
     "name": "stdout",
     "output_type": "stream",
     "text": [
      "Epoch 1/10\n",
      "157/157 [==============================] - 23s 129ms/step - loss: 0.5513 - acc: 0.7067 - val_loss: 0.4142 - val_acc: 0.8252\n",
      "Epoch 2/10\n",
      "157/157 [==============================] - 19s 122ms/step - loss: 0.3340 - acc: 0.8648 - val_loss: 0.4104 - val_acc: 0.8344\n",
      "Epoch 3/10\n",
      "157/157 [==============================] - 20s 128ms/step - loss: 0.2689 - acc: 0.8967 - val_loss: 0.4649 - val_acc: 0.8410\n",
      "Epoch 4/10\n",
      "157/157 [==============================] - 19s 122ms/step - loss: 0.2333 - acc: 0.9133 - val_loss: 0.4518 - val_acc: 0.7856\n",
      "Epoch 5/10\n",
      "157/157 [==============================] - 20s 131ms/step - loss: 0.1970 - acc: 0.9269 - val_loss: 0.3780 - val_acc: 0.8570\n",
      "Epoch 6/10\n",
      "157/157 [==============================] - 20s 126ms/step - loss: 0.1493 - acc: 0.9457 - val_loss: 0.3589 - val_acc: 0.8628\n",
      "Epoch 7/10\n",
      "157/157 [==============================] - 21s 132ms/step - loss: 0.1113 - acc: 0.9612 - val_loss: 0.4395 - val_acc: 0.8486\n",
      "Epoch 8/10\n",
      "157/157 [==============================] - 19s 119ms/step - loss: 0.0830 - acc: 0.9722 - val_loss: 0.4273 - val_acc: 0.8524\n",
      "Epoch 9/10\n",
      "157/157 [==============================] - 19s 122ms/step - loss: 0.0548 - acc: 0.9819 - val_loss: 0.4781 - val_acc: 0.8570\n",
      "Epoch 10/10\n",
      "157/157 [==============================] - 19s 120ms/step - loss: 0.0414 - acc: 0.9877 - val_loss: 0.5668 - val_acc: 0.8072\n"
     ]
    }
   ],
   "source": [
    "history = model.fit(input_train, y_train, epochs=10, batch_size=128, validation_split=0.2)"
   ]
  },
  {
   "cell_type": "code",
   "execution_count": 9,
   "id": "cbd678f4",
   "metadata": {},
   "outputs": [
    {
     "data": {
      "image/png": "[encoded data removed]",
      "text/plain": [
       "<Figure size 432x288 with 1 Axes>"
      ]
     },
     "metadata": {
      "needs_background": "light"
     },
     "output_type": "display_data"
    },
    {
     "data": {
      "image/png": "[encoded data removed]",
      "text/plain": [
       "<Figure size 432x288 with 1 Axes>"
      ]
     },
     "metadata": {
      "needs_background": "light"
     },
     "output_type": "display_data"
    }
   ],
   "source": [
    "import matplotlib.pyplot as plt\n",
    "\n",
    "acc = history.history['acc']\n",
    "val_acc = history.history['val_acc']\n",
    "loss = history.history['loss']\n",
    "val_loss = history.history['val_loss']\n",
    "\n",
    "epochs = range(1, len(acc)+1)\n",
    "\n",
    "plt.plot(epochs, acc, 'bo', label='Train acc')\n",
    "plt.plot(epochs, val_acc, 'b', label='Validation acc')\n",
    "plt.legend()\n",
    "plt.figure()\n",
    "\n",
    "plt.plot(epochs, loss, 'bo', label='Train loss')\n",
    "plt.plot(epochs, val_loss, 'b', label='Validation loss')\n",
    "plt.legend()\n",
    "plt.show()"
   ]
  },
  {
   "cell_type": "code",
   "execution_count": 10,
   "id": "cfe3cb18",
   "metadata": {},
   "outputs": [],
   "source": [
    "from keras.layers import LSTM\n",
    "\n",
    "model = Sequential()\n",
    "model.add(Embedding(max_features,32))\n",
    "model.add(LSTM(32))\n",
    "model.add(Dense(1,activation='sigmoid'))\n",
    "model.compile(optimizer='rmsprop', loss='binary_crossentropy', metrics=['acc'])"
   ]
  },
  {
   "cell_type": "code",
   "execution_count": 11,
   "id": "b0bfe472",
   "metadata": {},
   "outputs": [
    {
     "name": "stdout",
     "output_type": "stream",
     "text": [
      "Epoch 1/10\n",
      "157/157 [==============================] - 47s 283ms/step - loss: 0.5605 - acc: 0.7366 - val_loss: 0.3912 - val_acc: 0.8550\n",
      "Epoch 2/10\n",
      "157/157 [==============================] - 45s 290ms/step - loss: 0.3189 - acc: 0.8751 - val_loss: 0.3784 - val_acc: 0.8448\n",
      "Epoch 3/10\n",
      "157/157 [==============================] - 46s 295ms/step - loss: 0.2401 - acc: 0.9100 - val_loss: 0.2833 - val_acc: 0.8906\n",
      "Epoch 4/10\n",
      "157/157 [==============================] - 65s 414ms/step - loss: 0.2081 - acc: 0.9231 - val_loss: 0.3333 - val_acc: 0.8752\n",
      "Epoch 5/10\n",
      "157/157 [==============================] - 64s 406ms/step - loss: 0.1802 - acc: 0.9345 - val_loss: 0.3013 - val_acc: 0.8832\n",
      "Epoch 6/10\n",
      "157/157 [==============================] - 54s 341ms/step - loss: 0.1627 - acc: 0.9424 - val_loss: 0.3161 - val_acc: 0.8856\n",
      "Epoch 7/10\n",
      "157/157 [==============================] - 53s 339ms/step - loss: 0.1475 - acc: 0.9488 - val_loss: 0.3302 - val_acc: 0.8836\n",
      "Epoch 8/10\n",
      "157/157 [==============================] - 57s 361ms/step - loss: 0.1337 - acc: 0.9523 - val_loss: 0.3152 - val_acc: 0.8824\n",
      "Epoch 9/10\n",
      "157/157 [==============================] - 58s 372ms/step - loss: 0.1247 - acc: 0.9577 - val_loss: 0.3547 - val_acc: 0.8686\n",
      "Epoch 10/10\n",
      "157/157 [==============================] - 60s 380ms/step - loss: 0.1146 - acc: 0.9596 - val_loss: 0.3579 - val_acc: 0.8738\n"
     ]
    }
   ],
   "source": [
    "history = model.fit(input_train, y_train, epochs=10, batch_size=128, validation_split=0.2)"
   ]
  },
  {
   "cell_type": "code",
   "execution_count": 12,
   "id": "81bcd4ea",
   "metadata": {},
   "outputs": [
    {
     "data": {
      "image/png": "[encoded data removed]",
      "text/plain": [
       "<Figure size 432x288 with 1 Axes>"
      ]
     },
     "metadata": {
      "needs_background": "light"
     },
     "output_type": "display_data"
    },
    {
     "data": {
      "image/png": "[encoded data removed]",
      "text/plain": [
       "<Figure size 432x288 with 1 Axes>"
      ]
     },
     "metadata": {
      "needs_background": "light"
     },
     "output_type": "display_data"
    }
   ],
   "source": [
    "acc = history.history['acc']\n",
    "val_acc = history.history['val_acc']\n",
    "loss = history.history['loss']\n",
    "val_loss = history.history['val_loss']\n",
    "\n",
    "epochs = range(1, len(acc)+1)\n",
    "\n",
    "plt.plot(epochs, acc, 'bo', label='Train acc')\n",
    "plt.plot(epochs, val_acc, 'b', label='Validation acc')\n",
    "plt.legend()\n",
    "plt.figure()\n",
    "\n",
    "plt.plot(epochs, loss, 'bo', label='Train loss')\n",
    "plt.plot(epochs, val_loss, 'b', label='Validation loss')\n",
    "plt.legend()\n",
    "plt.show()"
   ]
  },
  {
   "cell_type": "code",
   "execution_count": null,
   "id": "2577f5c1",
   "metadata": {},
   "outputs": [],
   "source": []
  }
 ],
 "metadata": {
  "kernelspec": {
   "display_name": "Python 3 (ipykernel)",
   "language": "python",
   "name": "python3"
  },
  "language_info": {
   "codemirror_mode": {
    "name": "ipython",
    "version": 3
   },
   "file_extension": ".py",
   "mimetype": "text/x-python",
   "name": "python",
   "nbconvert_exporter": "python",
   "pygments_lexer": "ipython3",
   "version": "3.9.6"
  }
 },
 "nbformat": 4,
 "nbformat_minor": 5
}
