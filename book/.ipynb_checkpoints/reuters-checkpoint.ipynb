{
 "cells": [
  {
   "cell_type": "code",
   "execution_count": 1,
   "id": "87edea50",
   "metadata": {},
   "outputs": [],
   "source": [
    "from keras.datasets import reuters\n",
    "(train_data, train_laber), (test_data, test_labels) = reuters.load_data(num_words=10000)"
   ]
  },
  {
   "cell_type": "code",
   "execution_count": 2,
   "id": "c262a979",
   "metadata": {},
   "outputs": [],
   "source": [
    "import numpy as np\n",
    "def vectorize_sequence(sequens, dimension = 10000):\n",
    "    results = np.zeros((len(sequens), dimension))\n",
    "    for i, seq in enumerate(sequens):\n",
    "        results[i,seq] = 1.\n",
    "    return results"
   ]
  },
  {
   "cell_type": "code",
   "execution_count": 3,
   "id": "f8ba4346",
   "metadata": {},
   "outputs": [],
   "source": [
    "x_train = vectorize_sequence(train_data)\n",
    "x_test = vectorize_sequence(test_data)"
   ]
  },
  {
   "cell_type": "code",
   "execution_count": 4,
   "id": "672875fb",
   "metadata": {},
   "outputs": [],
   "source": [
    "from keras.utils.np_utils import to_categorical\n",
    "\n",
    "one_hot_train_labels = to_categorical(train_laber)\n",
    "one_hot_test_labels = to_categorical(test_labels)"
   ]
  },
  {
   "cell_type": "code",
   "execution_count": 5,
   "id": "34d0f433",
   "metadata": {},
   "outputs": [],
   "source": [
    "from keras import layers\n",
    "from keras import models\n",
    "\n",
    "model = models.Sequential()\n",
    "model.add(layers.Dense(64, activation='relu', input_shape=(10000,)))\n",
    "model.add(layers.Dense(64, activation='relu'))\n",
    "model.add(layers.Dense(46,activation='softmax'))"
   ]
  },
  {
   "cell_type": "code",
   "execution_count": 6,
   "id": "a931381b",
   "metadata": {},
   "outputs": [],
   "source": [
    "model.compile(optimizer='rmsprop', loss='categorical_crossentropy', metrics=['accuracy'])"
   ]
  },
  {
   "cell_type": "code",
   "execution_count": 7,
   "id": "d8559b8e",
   "metadata": {},
   "outputs": [],
   "source": [
    "x_val = x_train[:1000]\n",
    "partial_x_train = x_train[1000:]\n",
    "\n",
    "y_val = one_hot_train_labels[:1000]\n",
    "partial_y_train = one_hot_train_labels[1000:]"
   ]
  },
  {
   "cell_type": "code",
   "execution_count": 8,
   "id": "ab6abbcd",
   "metadata": {},
   "outputs": [
    {
     "name": "stdout",
     "output_type": "stream",
     "text": [
      "Epoch 1/20\n",
      "16/16 [==============================] - 1s 47ms/step - loss: 2.5990 - accuracy: 0.4774 - val_loss: 1.6715 - val_accuracy: 0.6510\n",
      "Epoch 2/20\n",
      "16/16 [==============================] - 0s 30ms/step - loss: 1.3761 - accuracy: 0.7159 - val_loss: 1.2611 - val_accuracy: 0.7240\n",
      "Epoch 3/20\n",
      "16/16 [==============================] - 0s 31ms/step - loss: 1.0191 - accuracy: 0.7783 - val_loss: 1.1077 - val_accuracy: 0.7530\n",
      "Epoch 4/20\n",
      "16/16 [==============================] - 0s 30ms/step - loss: 0.8128 - accuracy: 0.8229 - val_loss: 1.0345 - val_accuracy: 0.7710\n",
      "Epoch 5/20\n",
      "16/16 [==============================] - 0s 30ms/step - loss: 0.6524 - accuracy: 0.8636 - val_loss: 0.9550 - val_accuracy: 0.7990\n",
      "Epoch 6/20\n",
      "16/16 [==============================] - 0s 30ms/step - loss: 0.5250 - accuracy: 0.8923 - val_loss: 0.9309 - val_accuracy: 0.7990\n",
      "Epoch 7/20\n",
      "16/16 [==============================] - 0s 30ms/step - loss: 0.4245 - accuracy: 0.9112 - val_loss: 0.8979 - val_accuracy: 0.8060\n",
      "Epoch 8/20\n",
      "16/16 [==============================] - 0s 29ms/step - loss: 0.3467 - accuracy: 0.9253 - val_loss: 0.8948 - val_accuracy: 0.8120\n",
      "Epoch 9/20\n",
      "16/16 [==============================] - 1s 33ms/step - loss: 0.2839 - accuracy: 0.9390 - val_loss: 0.8939 - val_accuracy: 0.8050\n",
      "Epoch 10/20\n",
      "16/16 [==============================] - 1s 39ms/step - loss: 0.2393 - accuracy: 0.9440 - val_loss: 0.9310 - val_accuracy: 0.8030\n",
      "Epoch 11/20\n",
      "16/16 [==============================] - 1s 35ms/step - loss: 0.2092 - accuracy: 0.9490 - val_loss: 0.9783 - val_accuracy: 0.8050\n",
      "Epoch 12/20\n",
      "16/16 [==============================] - 1s 32ms/step - loss: 0.1848 - accuracy: 0.9505 - val_loss: 0.9512 - val_accuracy: 0.8100\n",
      "Epoch 13/20\n",
      "16/16 [==============================] - 0s 30ms/step - loss: 0.1713 - accuracy: 0.9526 - val_loss: 0.9589 - val_accuracy: 0.8050\n",
      "Epoch 14/20\n",
      "16/16 [==============================] - 0s 30ms/step - loss: 0.1520 - accuracy: 0.9549 - val_loss: 1.0250 - val_accuracy: 0.8100\n",
      "Epoch 15/20\n",
      "16/16 [==============================] - 0s 30ms/step - loss: 0.1422 - accuracy: 0.9551 - val_loss: 0.9917 - val_accuracy: 0.8110\n",
      "Epoch 16/20\n",
      "16/16 [==============================] - 0s 29ms/step - loss: 0.1316 - accuracy: 0.9570 - val_loss: 0.9755 - val_accuracy: 0.8170\n",
      "Epoch 17/20\n",
      "16/16 [==============================] - 1s 32ms/step - loss: 0.1293 - accuracy: 0.9555 - val_loss: 1.0504 - val_accuracy: 0.8000\n",
      "Epoch 18/20\n",
      "16/16 [==============================] - 1s 33ms/step - loss: 0.1194 - accuracy: 0.9573 - val_loss: 1.0360 - val_accuracy: 0.8050\n",
      "Epoch 19/20\n",
      "16/16 [==============================] - 0s 31ms/step - loss: 0.1184 - accuracy: 0.9582 - val_loss: 1.0884 - val_accuracy: 0.8050\n",
      "Epoch 20/20\n",
      "16/16 [==============================] - 1s 32ms/step - loss: 0.1141 - accuracy: 0.9574 - val_loss: 1.0946 - val_accuracy: 0.8080\n"
     ]
    }
   ],
   "source": [
    "history = model.fit(partial_x_train, partial_y_train, epochs=20, batch_size = 512, validation_data=(x_val,y_val))"
   ]
  },
  {
   "cell_type": "code",
   "execution_count": 9,
   "id": "c0e800c9",
   "metadata": {},
   "outputs": [
    {
     "data": {
      "text/plain": [
       "<matplotlib.legend.Legend at 0x1204655fbb0>"
      ]
     },
     "execution_count": 9,
     "metadata": {},
     "output_type": "execute_result"
    },
    {
     "data": {
      "image/png": "[encoded data removed]",
      "text/plain": [
       "<Figure size 432x288 with 1 Axes>"
      ]
     },
     "metadata": {
      "needs_background": "light"
     },
     "output_type": "display_data"
    }
   ],
   "source": [
    "import matplotlib.pyplot as plt\n",
    "\n",
    "loss = history.history['loss']\n",
    "val_loss = history.history['val_loss']\n",
    "\n",
    "epochs = range(1, len(loss)+1)\n",
    "\n",
    "plt.plot(epochs, loss, 'bo', label='Train loss')\n",
    "plt.plot(epochs, val_loss, 'b', label='Validation loss')\n",
    "plt.title('train and validation loss')\n",
    "plt.xlabel('epochs')\n",
    "plt.ylabel('loss')\n",
    "plt.legend()"
   ]
  },
  {
   "cell_type": "code",
   "execution_count": 10,
   "id": "733226ff",
   "metadata": {},
   "outputs": [
    {
     "data": {
      "text/plain": [
       "<matplotlib.legend.Legend at 0x1204649bd90>"
      ]
     },
     "execution_count": 10,
     "metadata": {},
     "output_type": "execute_result"
    },
    {
     "data": {
      "image/png": "[encoded data removed]",
      "text/plain": [
       "<Figure size 432x288 with 1 Axes>"
      ]
     },
     "metadata": {
      "needs_background": "light"
     },
     "output_type": "display_data"
    }
   ],
   "source": [
    "plt.clf()\n",
    "\n",
    "acc = history.history['accuracy']\n",
    "val_acc = history.history['val_accuracy']\n",
    "\n",
    "plt.plot(epochs, acc, 'bo', label='Train acc')\n",
    "plt.plot(epochs, val_acc, 'b', label='Validation acc')\n",
    "plt.title('train and validation acc')\n",
    "plt.xlabel('epochs')\n",
    "plt.ylabel('accuracy')\n",
    "plt.legend()"
   ]
  },
  {
   "cell_type": "code",
   "execution_count": 13,
   "id": "1c6bd9b0",
   "metadata": {},
   "outputs": [],
   "source": [
    "model = models.Sequential()\n",
    "model.add(layers.Dense(64, activation='relu', input_shape=(10000,)))\n",
    "model.add(layers.Dense(64,activation='relu'))\n",
    "model.add(layers.Dense(46,activation='softmax'))"
   ]
  },
  {
   "cell_type": "code",
   "execution_count": 14,
   "id": "76acd0fb",
   "metadata": {},
   "outputs": [
    {
     "name": "stdout",
     "output_type": "stream",
     "text": [
      "Epoch 1/9\n",
      "16/16 [==============================] - 1s 43ms/step - loss: 2.7429 - accuracy: 0.4449 - val_loss: 1.8608 - val_accuracy: 0.6490\n",
      "Epoch 2/9\n",
      "16/16 [==============================] - 1s 33ms/step - loss: 1.4735 - accuracy: 0.7100 - val_loss: 1.3332 - val_accuracy: 0.7110\n",
      "Epoch 3/9\n",
      "16/16 [==============================] - 0s 31ms/step - loss: 1.0677 - accuracy: 0.7695 - val_loss: 1.1454 - val_accuracy: 0.7530\n",
      "Epoch 4/9\n",
      "16/16 [==============================] - 1s 31ms/step - loss: 0.8374 - accuracy: 0.8201 - val_loss: 1.0521 - val_accuracy: 0.7720\n",
      "Epoch 5/9\n",
      "16/16 [==============================] - 1s 32ms/step - loss: 0.6701 - accuracy: 0.8593 - val_loss: 0.9879 - val_accuracy: 0.7920\n",
      "Epoch 6/9\n",
      "16/16 [==============================] - 1s 32ms/step - loss: 0.5357 - accuracy: 0.8929 - val_loss: 0.9544 - val_accuracy: 0.8010\n",
      "Epoch 7/9\n",
      "16/16 [==============================] - 1s 32ms/step - loss: 0.4311 - accuracy: 0.9126 - val_loss: 0.9086 - val_accuracy: 0.8130\n",
      "Epoch 8/9\n",
      "16/16 [==============================] - 1s 32ms/step - loss: 0.3489 - accuracy: 0.9276 - val_loss: 0.9012 - val_accuracy: 0.8160\n",
      "Epoch 9/9\n",
      "16/16 [==============================] - 0s 31ms/step - loss: 0.2853 - accuracy: 0.9402 - val_loss: 0.8933 - val_accuracy: 0.8210\n"
     ]
    },
    {
     "data": {
      "text/plain": [
       "<keras.callbacks.History at 0x12003c83a00>"
      ]
     },
     "execution_count": 14,
     "metadata": {},
     "output_type": "execute_result"
    }
   ],
   "source": [
    "model.compile(optimizer='rmsprop', loss='categorical_crossentropy', metrics=['accuracy'])\n",
    "model.fit(partial_x_train, partial_y_train, epochs=9, batch_size=512, validation_data=(x_val,y_val))"
   ]
  },
  {
   "cell_type": "code",
   "execution_count": 15,
   "id": "25ac8ea7",
   "metadata": {},
   "outputs": [
    {
     "name": "stdout",
     "output_type": "stream",
     "text": [
      "71/71 [==============================] - 0s 3ms/step - loss: 0.9671 - accuracy: 0.7956\n"
     ]
    }
   ],
   "source": [
    "results = model.evaluate(x_test, one_hot_test_labels)"
   ]
  },
  {
   "cell_type": "code",
   "execution_count": 16,
   "id": "d443988a",
   "metadata": {},
   "outputs": [
    {
     "data": {
      "text/plain": [
       "[0.9670946002006531, 0.7956367135047913]"
      ]
     },
     "execution_count": 16,
     "metadata": {},
     "output_type": "execute_result"
    }
   ],
   "source": [
    "results"
   ]
  },
  {
   "cell_type": "code",
   "execution_count": 17,
   "id": "8a936aae",
   "metadata": {},
   "outputs": [],
   "source": [
    "prediction = model.predict(x_test)"
   ]
  },
  {
   "cell_type": "code",
   "execution_count": 18,
   "id": "9e7f5197",
   "metadata": {},
   "outputs": [
    {
     "data": {
      "text/plain": [
       "array([[2.1663953e-05, 1.1448825e-04, 3.0875341e-05, ..., 4.6277446e-06,\n",
       "        9.6205931e-06, 3.7347177e-06],\n",
       "       [2.0881491e-02, 4.9030866e-02, 1.3541943e-01, ..., 1.2225785e-05,\n",
       "        4.7783037e-06, 6.7679078e-04],\n",
       "       [3.2790281e-02, 7.6913196e-01, 1.7627984e-02, ..., 4.5827255e-04,\n",
       "        7.0141046e-04, 1.0908355e-03],\n",
       "       ...,\n",
       "       [9.7654947e-06, 2.2974514e-04, 3.3815708e-05, ..., 4.0623687e-05,\n",
       "        9.2568356e-05, 8.6949758e-06],\n",
       "       [2.3499508e-03, 5.1898107e-02, 4.7842241e-03, ..., 5.8142236e-04,\n",
       "        2.2603362e-03, 8.3614903e-04],\n",
       "       [1.5628701e-02, 4.7788948e-01, 6.4328186e-02, ..., 8.3634345e-04,\n",
       "        6.5420452e-04, 2.1512687e-04]], dtype=float32)"
      ]
     },
     "execution_count": 18,
     "metadata": {},
     "output_type": "execute_result"
    }
   ],
   "source": [
    "prediction"
   ]
  },
  {
   "cell_type": "code",
   "execution_count": null,
   "id": "858d7711",
   "metadata": {},
   "outputs": [],
   "source": []
  }
 ],
 "metadata": {
  "kernelspec": {
   "display_name": "Python 3 (ipykernel)",
   "language": "python",
   "name": "python3"
  },
  "language_info": {
   "codemirror_mode": {
    "name": "ipython",
    "version": 3
   },
   "file_extension": ".py",
   "mimetype": "text/x-python",
   "name": "python",
   "nbconvert_exporter": "python",
   "pygments_lexer": "ipython3",
   "version": "3.9.6"
  }
 },
 "nbformat": 4,
 "nbformat_minor": 5
}
