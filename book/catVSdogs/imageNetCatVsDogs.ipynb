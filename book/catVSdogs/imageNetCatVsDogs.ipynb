{
 "cells": [
  {
   "cell_type": "code",
   "execution_count": 1,
   "id": "7e46945e",
   "metadata": {},
   "outputs": [
    {
     "name": "stderr",
     "output_type": "stream",
     "text": [
      "c:\\users\\ni_po\\appdata\\local\\programs\\python\\python39\\lib\\site-packages\\numpy\\_distributor_init.py:30: UserWarning: loaded more than 1 DLL from .libs:\n",
      "c:\\users\\ni_po\\appdata\\local\\programs\\python\\python39\\lib\\site-packages\\numpy\\.libs\\libopenblas.WCDJNK7YVMPZQ2ME2ZZHJJRJ3JIKNDB7.gfortran-win_amd64.dll\n",
      "c:\\users\\ni_po\\appdata\\local\\programs\\python\\python39\\lib\\site-packages\\numpy\\.libs\\libopenblas.XWYDX2IKJW2NMTWSFYNGFUWKQU3LYTCZ.gfortran-win_amd64.dll\n",
      "  warnings.warn(\"loaded more than 1 DLL from .libs:\"\n"
     ]
    },
    {
     "name": "stdout",
     "output_type": "stream",
     "text": [
      "Downloading data from https://storage.googleapis.com/tensorflow/keras-applications/vgg16/vgg16_weights_tf_dim_ordering_tf_kernels_notop.h5\n",
      "58892288/58889256 [==============================] - 9s 0us/step\n",
      "58900480/58889256 [==============================] - 9s 0us/step\n",
      "Model: \"vgg16\"\n",
      "_________________________________________________________________\n",
      " Layer (type)                Output Shape              Param #   \n",
      "=================================================================\n",
      " input_1 (InputLayer)        [(None, 150, 150, 3)]     0         \n",
      "                                                                 \n",
      " block1_conv1 (Conv2D)       (None, 150, 150, 64)      1792      \n",
      "                                                                 \n",
      " block1_conv2 (Conv2D)       (None, 150, 150, 64)      36928     \n",
      "                                                                 \n",
      " block1_pool (MaxPooling2D)  (None, 75, 75, 64)        0         \n",
      "                                                                 \n",
      " block2_conv1 (Conv2D)       (None, 75, 75, 128)       73856     \n",
      "                                                                 \n",
      " block2_conv2 (Conv2D)       (None, 75, 75, 128)       147584    \n",
      "                                                                 \n",
      " block2_pool (MaxPooling2D)  (None, 37, 37, 128)       0         \n",
      "                                                                 \n",
      " block3_conv1 (Conv2D)       (None, 37, 37, 256)       295168    \n",
      "                                                                 \n",
      " block3_conv2 (Conv2D)       (None, 37, 37, 256)       590080    \n",
      "                                                                 \n",
      " block3_conv3 (Conv2D)       (None, 37, 37, 256)       590080    \n",
      "                                                                 \n",
      " block3_pool (MaxPooling2D)  (None, 18, 18, 256)       0         \n",
      "                                                                 \n",
      " block4_conv1 (Conv2D)       (None, 18, 18, 512)       1180160   \n",
      "                                                                 \n",
      " block4_conv2 (Conv2D)       (None, 18, 18, 512)       2359808   \n",
      "                                                                 \n",
      " block4_conv3 (Conv2D)       (None, 18, 18, 512)       2359808   \n",
      "                                                                 \n",
      " block4_pool (MaxPooling2D)  (None, 9, 9, 512)         0         \n",
      "                                                                 \n",
      " block5_conv1 (Conv2D)       (None, 9, 9, 512)         2359808   \n",
      "                                                                 \n",
      " block5_conv2 (Conv2D)       (None, 9, 9, 512)         2359808   \n",
      "                                                                 \n",
      " block5_conv3 (Conv2D)       (None, 9, 9, 512)         2359808   \n",
      "                                                                 \n",
      " block5_pool (MaxPooling2D)  (None, 4, 4, 512)         0         \n",
      "                                                                 \n",
      "=================================================================\n",
      "Total params: 14,714,688\n",
      "Trainable params: 14,714,688\n",
      "Non-trainable params: 0\n",
      "_________________________________________________________________\n"
     ]
    }
   ],
   "source": [
    "import tensorflow as tf\n",
    "\n",
    "conv_base = tf.keras.applications.VGG16(weights='imagenet', include_top=False, input_shape=(150, 150, 3))\n",
    "conv_base.summary()"
   ]
  },
  {
   "cell_type": "code",
   "execution_count": 2,
   "id": "5676f2d2",
   "metadata": {},
   "outputs": [],
   "source": [
    "import os\n",
    "import numpy as np\n",
    "from keras.preprocessing.image import ImageDataGenerator"
   ]
  },
  {
   "cell_type": "code",
   "execution_count": 4,
   "id": "82604fa2",
   "metadata": {},
   "outputs": [
    {
     "name": "stdout",
     "output_type": "stream",
     "text": [
      "Found 2000 images belonging to 2 classes.\n",
      "Found 1000 images belonging to 2 classes.\n",
      "Found 1000 images belonging to 2 classes.\n"
     ]
    }
   ],
   "source": [
    "import pathlib\n",
    "\n",
    "mainDir = pathlib.Path().resolve()\n",
    "original_datasets_dir = os.path.join(mainDir,\"data\")\n",
    "original_datasets_dir = os.path.join(original_datasets_dir,\"train1\")\n",
    "\n",
    "base_dir = 'data\\\\cats_and_dogs_small'\n",
    "\n",
    "original_datasets_dir = os.path.abspath(original_datasets_dir)\n",
    "\n",
    "train_dir = os.path.join(base_dir, 'train')\n",
    "test_dir = os.path.join(base_dir, 'test')\n",
    "validation_dir = os.path.join(base_dir, 'validation')\n",
    "\n",
    "datagen = ImageDataGenerator(rescale=1./255)\n",
    "batch_size = 20\n",
    "\n",
    "def extract_features(directory, sample_count):\n",
    "    features = np.zeros(shape=(sample_count, 4, 4, 512))\n",
    "    labels = np.zeros(shape=(sample_count))\n",
    "    generator = datagen.flow_from_directory(\n",
    "        directory,\n",
    "        target_size=(150, 150),\n",
    "        batch_size = batch_size,\n",
    "        class_mode='binary'\n",
    "    )\n",
    "    i = 0\n",
    "    for input_batch, labels_batch in generator:\n",
    "        features_batch = conv_base.predict(input_batch)\n",
    "        features[i* batch_size : (i+1) * batch_size] = features_batch\n",
    "        labels[i * batch_size : (i+1) * batch_size] = labels_batch\n",
    "        i += 1\n",
    "        if i* batch_size >= sample_count:\n",
    "            break\n",
    "    return features, labels\n",
    "\n",
    "train_features, train_labels = extract_features(train_dir, 2000)\n",
    "validation_features, validation_labels = extract_features(validation_dir, 1000)\n",
    "test_features, test_labels = extract_features(test_dir, 1000)"
   ]
  },
  {
   "cell_type": "code",
   "execution_count": 5,
   "id": "d2ce6fe3",
   "metadata": {},
   "outputs": [],
   "source": [
    "train_features = np.reshape(train_features, (2000, 4*4*512))\n",
    "validation_features = np.reshape(validation_features, (1000, 4*4*512))\n",
    "test_features = np.reshape(test_features, (1000, 4*4*512))"
   ]
  },
  {
   "cell_type": "code",
   "execution_count": 7,
   "id": "a257268c",
   "metadata": {},
   "outputs": [
    {
     "name": "stderr",
     "output_type": "stream",
     "text": [
      "c:\\users\\ni_po\\appdata\\local\\programs\\python\\python39\\lib\\site-packages\\keras\\optimizer_v2\\rmsprop.py:130: UserWarning: The `lr` argument is deprecated, use `learning_rate` instead.\n",
      "  super(RMSprop, self).__init__(name, **kwargs)\n"
     ]
    }
   ],
   "source": [
    "from keras import layers, models\n",
    "from tensorflow.keras import optimizers\n",
    "\n",
    "model = models.Sequential()\n",
    "model.add(layers.Dense(256, activation = 'relu', input_dim = 4*4*512))\n",
    "model.add(layers.Dropout(0.5))\n",
    "model.add(layers.Dense(1, activation='sigmoid'))\n",
    "\n",
    "model.compile(optimizer=optimizers.RMSprop(lr=2e-5),\n",
    "             loss='binary_crossentropy',\n",
    "             metrics=['acc'])\n"
   ]
  },
  {
   "cell_type": "code",
   "execution_count": 8,
   "id": "7fafd77d",
   "metadata": {},
   "outputs": [
    {
     "name": "stdout",
     "output_type": "stream",
     "text": [
      "Epoch 1/30\n",
      "100/100 [==============================] - 6s 33ms/step - loss: 0.6147 - acc: 0.6590 - val_loss: 0.4432 - val_acc: 0.8390\n",
      "Epoch 2/30\n",
      "100/100 [==============================] - 3s 31ms/step - loss: 0.4433 - acc: 0.7995 - val_loss: 0.3628 - val_acc: 0.8640\n",
      "Epoch 3/30\n",
      "100/100 [==============================] - 3s 30ms/step - loss: 0.3506 - acc: 0.8570 - val_loss: 0.3298 - val_acc: 0.8630\n",
      "Epoch 4/30\n",
      "100/100 [==============================] - 3s 30ms/step - loss: 0.3200 - acc: 0.8695 - val_loss: 0.2987 - val_acc: 0.8840\n",
      "Epoch 5/30\n",
      "100/100 [==============================] - 4s 39ms/step - loss: 0.2762 - acc: 0.8970 - val_loss: 0.2831 - val_acc: 0.8850\n",
      "Epoch 6/30\n",
      "100/100 [==============================] - 3s 34ms/step - loss: 0.2605 - acc: 0.9010 - val_loss: 0.2728 - val_acc: 0.8910\n",
      "Epoch 7/30\n",
      "100/100 [==============================] - 4s 36ms/step - loss: 0.2429 - acc: 0.9110 - val_loss: 0.2641 - val_acc: 0.8900\n",
      "Epoch 8/30\n",
      "100/100 [==============================] - 4s 39ms/step - loss: 0.2303 - acc: 0.9110 - val_loss: 0.2689 - val_acc: 0.8880\n",
      "Epoch 9/30\n",
      "100/100 [==============================] - 5s 50ms/step - loss: 0.2160 - acc: 0.9170 - val_loss: 0.2596 - val_acc: 0.8920\n",
      "Epoch 10/30\n",
      "100/100 [==============================] - 5s 48ms/step - loss: 0.2037 - acc: 0.9245 - val_loss: 0.2511 - val_acc: 0.8950\n",
      "Epoch 11/30\n",
      "100/100 [==============================] - 4s 40ms/step - loss: 0.1953 - acc: 0.9315 - val_loss: 0.2542 - val_acc: 0.8930\n",
      "Epoch 12/30\n",
      "100/100 [==============================] - 4s 45ms/step - loss: 0.1893 - acc: 0.9335 - val_loss: 0.2461 - val_acc: 0.8940\n",
      "Epoch 13/30\n",
      "100/100 [==============================] - 4s 42ms/step - loss: 0.1741 - acc: 0.9395 - val_loss: 0.2529 - val_acc: 0.8940\n",
      "Epoch 14/30\n",
      "100/100 [==============================] - 3s 35ms/step - loss: 0.1710 - acc: 0.9340 - val_loss: 0.2489 - val_acc: 0.8960\n",
      "Epoch 15/30\n",
      "100/100 [==============================] - 4s 38ms/step - loss: 0.1638 - acc: 0.9455 - val_loss: 0.2447 - val_acc: 0.8940\n",
      "Epoch 16/30\n",
      "100/100 [==============================] - 4s 38ms/step - loss: 0.1572 - acc: 0.9450 - val_loss: 0.2383 - val_acc: 0.8970\n",
      "Epoch 17/30\n",
      "100/100 [==============================] - 4s 38ms/step - loss: 0.1488 - acc: 0.9490 - val_loss: 0.2392 - val_acc: 0.89601525 - acc: 0.9 - ETA: 0s - loss: 0.1513 - acc: \n",
      "Epoch 18/30\n",
      "100/100 [==============================] - 4s 41ms/step - loss: 0.1423 - acc: 0.9465 - val_loss: 0.2424 - val_acc: 0.8950 2s - loss: 0.1291 -  - ETA:\n",
      "Epoch 19/30\n",
      "100/100 [==============================] - 4s 41ms/step - loss: 0.1328 - acc: 0.9500 - val_loss: 0.2382 - val_acc: 0.8980\n",
      "Epoch 20/30\n",
      "100/100 [==============================] - 4s 45ms/step - loss: 0.1327 - acc: 0.9560 - val_loss: 0.2355 - val_acc: 0.8990\n",
      "Epoch 21/30\n",
      "100/100 [==============================] - 5s 53ms/step - loss: 0.1255 - acc: 0.9605 - val_loss: 0.2353 - val_acc: 0.9020\n",
      "Epoch 22/30\n",
      "100/100 [==============================] - 4s 37ms/step - loss: 0.1175 - acc: 0.9580 - val_loss: 0.2371 - val_acc: 0.8980\n",
      "Epoch 23/30\n",
      "100/100 [==============================] - 4s 37ms/step - loss: 0.1164 - acc: 0.9635 - val_loss: 0.2412 - val_acc: 0.8980\n",
      "Epoch 24/30\n",
      "100/100 [==============================] - 4s 37ms/step - loss: 0.1110 - acc: 0.9680 - val_loss: 0.2383 - val_acc: 0.8980\n",
      "Epoch 25/30\n",
      "100/100 [==============================] - 4s 35ms/step - loss: 0.1082 - acc: 0.9660 - val_loss: 0.2359 - val_acc: 0.9010\n",
      "Epoch 26/30\n",
      "100/100 [==============================] - 4s 37ms/step - loss: 0.1075 - acc: 0.9665 - val_loss: 0.2387 - val_acc: 0.8990\n",
      "Epoch 27/30\n",
      "100/100 [==============================] - 4s 39ms/step - loss: 0.0989 - acc: 0.9665 - val_loss: 0.2351 - val_acc: 0.9000\n",
      "Epoch 28/30\n",
      "100/100 [==============================] - 4s 41ms/step - loss: 0.0974 - acc: 0.9680 - val_loss: 0.2356 - val_acc: 0.9000\n",
      "Epoch 29/30\n",
      "100/100 [==============================] - 4s 43ms/step - loss: 0.0885 - acc: 0.9750 - val_loss: 0.2368 - val_acc: 0.8980 3s - loss: 0.0884 - acc: 0 - ETA: 2s - loss: 0.0886 - acc: 0. - ETA: \n",
      "Epoch 30/30\n",
      "100/100 [==============================] - 5s 46ms/step - loss: 0.0890 - acc: 0.9740 - val_loss: 0.2415 - val_acc: 0.9000\n"
     ]
    }
   ],
   "source": [
    "history = model.fit(train_features, \n",
    "                    train_labels, \n",
    "                    epochs=30, \n",
    "                    batch_size=batch_size, \n",
    "                    validation_data=(validation_features, validation_labels))"
   ]
  },
  {
   "cell_type": "code",
   "execution_count": 9,
   "id": "14afc630",
   "metadata": {},
   "outputs": [
    {
     "data": {
      "text/plain": [
       "<matplotlib.legend.Legend at 0x1e275b89a30>"
      ]
     },
     "execution_count": 9,
     "metadata": {},
     "output_type": "execute_result"
    },
    {
     "data": {
      "image/png": "[encoded data removed]",
      "text/plain": [
       "<Figure size 432x288 with 1 Axes>"
      ]
     },
     "metadata": {
      "needs_background": "light"
     },
     "output_type": "display_data"
    }
   ],
   "source": [
    "import matplotlib.pyplot as plt\n",
    "\n",
    "acc = history.history['acc']\n",
    "val_acc = history.history['val_acc']\n",
    "loss = history.history['loss']\n",
    "val_loss = history.history['val_loss']\n",
    "\n",
    "epochs = range(1, len(acc) + 1)\n",
    "\n",
    "plt.plot(epochs, acc, 'bo', label = \"Training acc\")\n",
    "plt.plot(epochs, val_acc, 'b', label = \"Validation acc\")\n",
    "plt.legend()"
   ]
  },
  {
   "cell_type": "code",
   "execution_count": 10,
   "id": "c279636a",
   "metadata": {},
   "outputs": [
    {
     "data": {
      "text/plain": [
       "<Figure size 432x288 with 0 Axes>"
      ]
     },
     "execution_count": 10,
     "metadata": {},
     "output_type": "execute_result"
    },
    {
     "data": {
      "image/png": "[encoded data removed]",
      "text/plain": [
       "<Figure size 432x288 with 1 Axes>"
      ]
     },
     "metadata": {
      "needs_background": "light"
     },
     "output_type": "display_data"
    },
    {
     "data": {
      "text/plain": [
       "<Figure size 432x288 with 0 Axes>"
      ]
     },
     "metadata": {},
     "output_type": "display_data"
    }
   ],
   "source": [
    "plt.plot(epochs, loss, 'bo', label='Train loss')\n",
    "plt.plot(epochs, val_loss, 'b', label='Validation loss')\n",
    "plt.legend()\n",
    "plt.figure()"
   ]
  },
  {
   "cell_type": "code",
   "execution_count": null,
   "id": "483ac905",
   "metadata": {},
   "outputs": [],
   "source": []
  }
 ],
 "metadata": {
  "kernelspec": {
   "display_name": "Python 3 (ipykernel)",
   "language": "python",
   "name": "python3"
  },
  "language_info": {
   "codemirror_mode": {
    "name": "ipython",
    "version": 3
   },
   "file_extension": ".py",
   "mimetype": "text/x-python",
   "name": "python",
   "nbconvert_exporter": "python",
   "pygments_lexer": "ipython3",
   "version": "3.9.6"
  }
 },
 "nbformat": 4,
 "nbformat_minor": 5
}
