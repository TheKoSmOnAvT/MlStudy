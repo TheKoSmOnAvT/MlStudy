{
 "cells": [
  {
   "cell_type": "code",
   "execution_count": 1,
   "id": "ed40d308",
   "metadata": {},
   "outputs": [],
   "source": [
    "from keras.datasets import imdb"
   ]
  },
  {
   "cell_type": "code",
   "execution_count": 2,
   "id": "47afa868",
   "metadata": {},
   "outputs": [],
   "source": [
    "(train_data, train_labels), (test_data, test_labels) = imdb.load_data(num_words=10000)"
   ]
  },
  {
   "cell_type": "code",
   "execution_count": 3,
   "id": "ca1b67fa",
   "metadata": {},
   "outputs": [],
   "source": [
    "word_index = imdb.get_word_index()"
   ]
  },
  {
   "cell_type": "code",
   "execution_count": 4,
   "id": "544059cd",
   "metadata": {},
   "outputs": [],
   "source": [
    "reverse_word_index = dict([(value,key) for (key,value) in word_index.items()])"
   ]
  },
  {
   "cell_type": "code",
   "execution_count": 5,
   "id": "3972b9ba",
   "metadata": {},
   "outputs": [],
   "source": [
    "decoded_review = ' '.join([reverse_word_index.get(i - 3, '?') for i in train_data[0]])"
   ]
  },
  {
   "cell_type": "code",
   "execution_count": 6,
   "id": "5c494b12",
   "metadata": {},
   "outputs": [
    {
     "data": {
      "text/plain": [
       "\"? this film was just brilliant casting location scenery story direction everyone's really suited the part they played and you could just imagine being there robert ? is an amazing actor and now the same being director ? father came from the same scottish island as myself so i loved the fact there was a real connection with this film the witty remarks throughout the film were great it was just brilliant so much that i bought the film as soon as it was released for ? and would recommend it to everyone to watch and the fly fishing was amazing really cried at the end it was so sad and you know what they say if you cry at a film it must have been good and this definitely was also ? to the two little boy's that played the ? of norman and paul they were just brilliant children are often left out of the ? list i think because the stars that play them all grown up are such a big profile for the whole film but these children are amazing and should be praised for what they have done don't you think the whole story was so lovely because it was true and was someone's life after all that was shared with us all\""
      ]
     },
     "execution_count": 6,
     "metadata": {},
     "output_type": "execute_result"
    }
   ],
   "source": [
    "decoded_review"
   ]
  },
  {
   "cell_type": "code",
   "execution_count": 7,
   "id": "015dfb1a",
   "metadata": {},
   "outputs": [],
   "source": [
    "import numpy as np\n",
    "\n",
    "def vectorize_sequences(sequences, dimension = 10000):\n",
    "    results = np.zeros((len(sequences), dimension))\n",
    "    for i, sequence in enumerate(sequences):\n",
    "        results[i, sequence] = 1.\n",
    "    return results"
   ]
  },
  {
   "cell_type": "code",
   "execution_count": 8,
   "id": "1e2e860e",
   "metadata": {},
   "outputs": [],
   "source": [
    "x_train = vectorize_sequences(train_data)\n",
    "x_test = vectorize_sequences(test_data)"
   ]
  },
  {
   "cell_type": "code",
   "execution_count": 9,
   "id": "5035114c",
   "metadata": {},
   "outputs": [
    {
     "data": {
      "text/plain": [
       "25000"
      ]
     },
     "execution_count": 9,
     "metadata": {},
     "output_type": "execute_result"
    }
   ],
   "source": [
    "len(x_train)"
   ]
  },
  {
   "cell_type": "code",
   "execution_count": 10,
   "id": "3689ea08",
   "metadata": {},
   "outputs": [],
   "source": [
    "from keras import models\n",
    "from keras import layers"
   ]
  },
  {
   "cell_type": "code",
   "execution_count": 11,
   "id": "f6e01962",
   "metadata": {},
   "outputs": [],
   "source": [
    "model = models.Sequential()\n",
    "model.add(layers.Dense(16, activation='relu', input_shape=(10000,)))\n",
    "model.add(layers.Dense(16,activation='relu'))\n",
    "model.add(layers.Dense(1,activation='sigmoid'))"
   ]
  },
  {
   "cell_type": "code",
   "execution_count": 12,
   "id": "3dce20e5",
   "metadata": {},
   "outputs": [],
   "source": [
    "y_train = np.asarray(train_labels).astype('float32')\n",
    "y_test = np.asarray(test_labels).astype('float32')"
   ]
  },
  {
   "cell_type": "code",
   "execution_count": 13,
   "id": "e75b590e",
   "metadata": {},
   "outputs": [],
   "source": [
    "model.compile(optimizer = 'rmsprop', loss='binary_crossentropy', metrics=['accuracy'])"
   ]
  },
  {
   "cell_type": "code",
   "execution_count": 14,
   "id": "26f14a73",
   "metadata": {},
   "outputs": [],
   "source": [
    "x_val = x_train[:10000]\n",
    "partial_x_train = x_train[:10000]\n",
    "y_val = y_train[:10000]\n",
    "partial_y_train = y_train[:10000]"
   ]
  },
  {
   "cell_type": "code",
   "execution_count": 15,
   "id": "3ec61c84",
   "metadata": {},
   "outputs": [
    {
     "name": "stdout",
     "output_type": "stream",
     "text": [
      "Epoch 1/20\n",
      "20/20 [==============================] - 2s 38ms/step - loss: 0.5637 - accuracy: 0.7547 - val_loss: 0.4078 - val_accuracy: 0.9003\n",
      "Epoch 2/20\n",
      "20/20 [==============================] - 0s 22ms/step - loss: 0.3650 - accuracy: 0.8928 - val_loss: 0.2828 - val_accuracy: 0.9304\n",
      "Epoch 3/20\n",
      "20/20 [==============================] - 0s 24ms/step - loss: 0.2699 - accuracy: 0.9184 - val_loss: 0.2274 - val_accuracy: 0.9375\n",
      "Epoch 4/20\n",
      "20/20 [==============================] - 0s 24ms/step - loss: 0.2081 - accuracy: 0.9431 - val_loss: 0.1661 - val_accuracy: 0.9627\n",
      "Epoch 5/20\n",
      "20/20 [==============================] - 0s 24ms/step - loss: 0.1672 - accuracy: 0.9541 - val_loss: 0.1394 - val_accuracy: 0.9671\n",
      "Epoch 6/20\n",
      "20/20 [==============================] - 0s 23ms/step - loss: 0.1344 - accuracy: 0.9668 - val_loss: 0.1051 - val_accuracy: 0.9798\n",
      "Epoch 7/20\n",
      "20/20 [==============================] - 0s 23ms/step - loss: 0.1112 - accuracy: 0.9730 - val_loss: 0.0858 - val_accuracy: 0.9833\n",
      "Epoch 8/20\n",
      "20/20 [==============================] - 0s 24ms/step - loss: 0.0890 - accuracy: 0.9792 - val_loss: 0.0685 - val_accuracy: 0.9882\n",
      "Epoch 9/20\n",
      "20/20 [==============================] - 0s 24ms/step - loss: 0.0710 - accuracy: 0.9855 - val_loss: 0.0548 - val_accuracy: 0.9911\n",
      "Epoch 10/20\n",
      "20/20 [==============================] - 0s 24ms/step - loss: 0.0591 - accuracy: 0.9875 - val_loss: 0.0471 - val_accuracy: 0.9926\n",
      "Epoch 11/20\n",
      "20/20 [==============================] - 0s 23ms/step - loss: 0.0470 - accuracy: 0.9916 - val_loss: 0.0333 - val_accuracy: 0.9959\n",
      "Epoch 12/20\n",
      "20/20 [==============================] - 0s 23ms/step - loss: 0.0371 - accuracy: 0.9943 - val_loss: 0.0272 - val_accuracy: 0.9970\n",
      "Epoch 13/20\n",
      "20/20 [==============================] - 0s 24ms/step - loss: 0.0293 - accuracy: 0.9954 - val_loss: 0.0217 - val_accuracy: 0.9978\n",
      "Epoch 14/20\n",
      "20/20 [==============================] - 0s 23ms/step - loss: 0.0235 - accuracy: 0.9971 - val_loss: 0.0154 - val_accuracy: 0.9989\n",
      "Epoch 15/20\n",
      "20/20 [==============================] - 0s 23ms/step - loss: 0.0177 - accuracy: 0.9981 - val_loss: 0.0116 - val_accuracy: 0.9990\n",
      "Epoch 16/20\n",
      "20/20 [==============================] - 0s 23ms/step - loss: 0.0143 - accuracy: 0.9985 - val_loss: 0.0097 - val_accuracy: 0.9996\n",
      "Epoch 17/20\n",
      "20/20 [==============================] - 0s 24ms/step - loss: 0.0094 - accuracy: 0.9992 - val_loss: 0.0091 - val_accuracy: 0.9997\n",
      "Epoch 18/20\n",
      "20/20 [==============================] - 0s 25ms/step - loss: 0.0093 - accuracy: 0.9994 - val_loss: 0.0048 - val_accuracy: 0.9998\n",
      "Epoch 19/20\n",
      "20/20 [==============================] - 0s 25ms/step - loss: 0.0050 - accuracy: 0.9997 - val_loss: 0.0040 - val_accuracy: 0.9998\n",
      "Epoch 20/20\n",
      "20/20 [==============================] - 0s 23ms/step - loss: 0.0052 - accuracy: 0.9997 - val_loss: 0.0026 - val_accuracy: 0.9999\n"
     ]
    }
   ],
   "source": [
    "history = model.fit(partial_x_train, partial_y_train, epochs=20, batch_size=512, validation_data=(x_val, y_val))"
   ]
  },
  {
   "cell_type": "code",
   "execution_count": 16,
   "id": "82fac237",
   "metadata": {},
   "outputs": [
    {
     "data": {
      "text/plain": [
       "<matplotlib.legend.Legend at 0x2058012a9d0>"
      ]
     },
     "execution_count": 16,
     "metadata": {},
     "output_type": "execute_result"
    },
    {
     "data": {
      "image/png": "[encoded data removed]",
      "text/plain": [
       "<Figure size 432x288 with 1 Axes>"
      ]
     },
     "metadata": {
      "needs_background": "light"
     },
     "output_type": "display_data"
    }
   ],
   "source": [
    "import matplotlib.pyplot as plt\n",
    "history_dict = history.history\n",
    "loss_values = history_dict['loss']\n",
    "vall_loss_values = history_dict['val_loss']\n",
    "\n",
    "epochs = range(1, 20+1)\n",
    "\n",
    "plt.plot(epochs, loss_values, 'bo', label='Traning loss')\n",
    "plt.plot(epochs, vall_loss_values, 'b', label='Validation loss')\n",
    "plt.xlabel(\"epochs\")\n",
    "plt.xlabel(\"loss\")\n",
    "plt.legend()"
   ]
  },
  {
   "cell_type": "code",
   "execution_count": 17,
   "id": "2c019e66",
   "metadata": {},
   "outputs": [
    {
     "data": {
      "text/plain": [
       "<matplotlib.legend.Legend at 0x20580228bb0>"
      ]
     },
     "execution_count": 17,
     "metadata": {},
     "output_type": "execute_result"
    },
    {
     "data": {
      "image/png": "[encoded data removed]",
      "text/plain": [
       "<Figure size 432x288 with 1 Axes>"
      ]
     },
     "metadata": {
      "needs_background": "light"
     },
     "output_type": "display_data"
    }
   ],
   "source": [
    "plt.clf()\n",
    "acc_values = history_dict['accuracy']\n",
    "val_acc_values = history_dict['val_accuracy']\n",
    "\n",
    "plt.plot(epochs, acc_values, 'bo', label='Traning acc')\n",
    "plt.plot(epochs,val_acc_values, 'b', label='validation acc')\n",
    "plt.xlabel(\"epochs\")\n",
    "plt.xlabel(\"loss\")\n",
    "plt.legend()"
   ]
  },
  {
   "cell_type": "code",
   "execution_count": 18,
   "id": "cdbc2503",
   "metadata": {},
   "outputs": [
    {
     "name": "stdout",
     "output_type": "stream",
     "text": [
      "Epoch 1/4\n",
      "20/20 [==============================] - 1s 38ms/step - loss: 0.5439 - accuracy: 0.7669 - val_loss: 0.3948 - val_accuracy: 0.8911\n",
      "Epoch 2/4\n",
      "20/20 [==============================] - 0s 23ms/step - loss: 0.3548 - accuracy: 0.8933 - val_loss: 0.2795 - val_accuracy: 0.9264\n",
      "Epoch 3/4\n",
      "20/20 [==============================] - 0s 25ms/step - loss: 0.2583 - accuracy: 0.9293 - val_loss: 0.2340 - val_accuracy: 0.9265\n",
      "Epoch 4/4\n",
      "20/20 [==============================] - 0s 24ms/step - loss: 0.2053 - accuracy: 0.9425 - val_loss: 0.1608 - val_accuracy: 0.9648\n",
      "782/782 [==============================] - 1s 2ms/step - loss: 0.3070 - accuracy: 0.8782\n"
     ]
    }
   ],
   "source": [
    "model = models.Sequential()\n",
    "model.add(layers.Dense(16, activation='relu', input_shape=(10000,)))\n",
    "model.add(layers.Dense(16,activation='relu'))\n",
    "model.add(layers.Dense(1,activation='sigmoid'))\n",
    "model.compile(optimizer = 'rmsprop', loss='binary_crossentropy', metrics=['accuracy'])\n",
    "model.fit(partial_x_train, partial_y_train, epochs=4, batch_size=512, validation_data=(x_val, y_val))\n",
    "result  = model.evaluate(x_test, y_test)"
   ]
  },
  {
   "cell_type": "code",
   "execution_count": 19,
   "id": "9868b683",
   "metadata": {},
   "outputs": [
    {
     "data": {
      "text/plain": [
       "[0.30703338980674744, 0.8781599998474121]"
      ]
     },
     "execution_count": 19,
     "metadata": {},
     "output_type": "execute_result"
    }
   ],
   "source": [
    "result"
   ]
  },
  {
   "cell_type": "code",
   "execution_count": 20,
   "id": "a9124419",
   "metadata": {},
   "outputs": [
    {
     "data": {
      "text/plain": [
       "array([[0.32986146],\n",
       "       [0.99543226],\n",
       "       [0.83543575],\n",
       "       ...,\n",
       "       [0.2066721 ],\n",
       "       [0.15272513],\n",
       "       [0.410258  ]], dtype=float32)"
      ]
     },
     "execution_count": 20,
     "metadata": {},
     "output_type": "execute_result"
    }
   ],
   "source": [
    "model.predict(x_test)"
   ]
  },
  {
   "cell_type": "code",
   "execution_count": null,
   "id": "b1562acd",
   "metadata": {},
   "outputs": [],
   "source": []
  }
 ],
 "metadata": {
  "kernelspec": {
   "display_name": "Python 3 (ipykernel)",
   "language": "python",
   "name": "python3"
  },
  "language_info": {
   "codemirror_mode": {
    "name": "ipython",
    "version": 3
   },
   "file_extension": ".py",
   "mimetype": "text/x-python",
   "name": "python",
   "nbconvert_exporter": "python",
   "pygments_lexer": "ipython3",
   "version": "3.9.6"
  }
 },
 "nbformat": 4,
 "nbformat_minor": 5
}
