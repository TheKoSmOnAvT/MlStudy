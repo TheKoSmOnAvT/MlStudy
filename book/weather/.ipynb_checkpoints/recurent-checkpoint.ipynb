{
 "cells": [
  {
   "cell_type": "code",
   "execution_count": 1,
   "id": "00934703",
   "metadata": {},
   "outputs": [],
   "source": [
    "import os"
   ]
  },
  {
   "cell_type": "code",
   "execution_count": 2,
   "id": "c0182f66",
   "metadata": {},
   "outputs": [
    {
     "name": "stdout",
     "output_type": "stream",
     "text": [
      "['\"Date Time\"', '\"p (mbar)\"', '\"T (degC)\"', '\"Tpot (K)\"', '\"Tdew (degC)\"', '\"rh (%)\"', '\"VPmax (mbar)\"', '\"VPact (mbar)\"', '\"VPdef (mbar)\"', '\"sh (g/kg)\"', '\"H2OC (mmol/mol)\"', '\"rho (g/m**3)\"', '\"wv (m/s)\"', '\"max. wv (m/s)\"', '\"wd (deg)\"']\n",
      "420451\n"
     ]
    }
   ],
   "source": [
    "# mainDir = pathlib.Path().resolve()\n",
    "# original_datasets_dir = os.path.join(mainDir,\"data\")\n",
    "# original_datasets_dir = os.path.join(original_datasets_dir,\"train1\")\n",
    "\n",
    "#data_dir = 'jena_climate'\n",
    "\n",
    "fname = 'jena_climate_2009_2016.csv'#os.path.join('', 'jena_climate_2009_2016.csv')\n",
    "\n",
    "f = open(fname)\n",
    "data = f.read()\n",
    "f.close\n",
    "\n",
    "lines = data.split('\\n')\n",
    "header = lines[0].split(',')\n",
    "lines = lines[1:]\n",
    "\n",
    "print(header)\n",
    "print(len(lines))"
   ]
  },
  {
   "cell_type": "code",
   "execution_count": 3,
   "id": "d6c7c459",
   "metadata": {},
   "outputs": [],
   "source": [
    "import numpy as np\n",
    "\n",
    "float_data = np.zeros((len(lines), len(header)-1))\n",
    "for i,line in enumerate(lines):\n",
    "    values = [float(x) for x in line.split(',')[1:]]\n",
    "    float_data[i,:] = values"
   ]
  },
  {
   "cell_type": "code",
   "execution_count": 4,
   "id": "7bfbde03",
   "metadata": {},
   "outputs": [
    {
     "data": {
      "text/plain": [
       "[<matplotlib.lines.Line2D at 0x209d1443d30>]"
      ]
     },
     "execution_count": 4,
     "metadata": {},
     "output_type": "execute_result"
    },
    {
     "data": {
      "image/png": "[encoded data removed]",
      "text/plain": [
       "<Figure size 432x288 with 1 Axes>"
      ]
     },
     "metadata": {
      "needs_background": "light"
     },
     "output_type": "display_data"
    }
   ],
   "source": [
    "from matplotlib import pyplot as plt\n",
    "\n",
    "temp = float_data[:,1]\n",
    "plt.plot(range(len(temp)),temp)"
   ]
  },
  {
   "cell_type": "code",
   "execution_count": 5,
   "id": "2367e974",
   "metadata": {},
   "outputs": [],
   "source": [
    "mean = float_data[:200000].mean(axis=0)\n",
    "float_data -=mean\n",
    "std = float_data[:200000].std(axis=0)\n",
    "float_data /= std"
   ]
  },
  {
   "cell_type": "code",
   "execution_count": 6,
   "id": "d8bfe7fa",
   "metadata": {},
   "outputs": [],
   "source": [
    "def generator(data, lookback, delay, min_index, max_index,\n",
    "              shuffle=False, batch_size=128, step=6):\n",
    "    if max_index is None:\n",
    "        max_index = len(data) - delay - 1\n",
    "    i = min_index + lookback\n",
    "    while 1:\n",
    "        if shuffle:\n",
    "            rows = np.random.randint(\n",
    "                min_index + lookback, max_index, size=batch_size)\n",
    "        else:\n",
    "            if i + batch_size >= max_index:\n",
    "                i = min_index + lookback\n",
    "            rows = np.arange(i, min(i + batch_size, max_index))\n",
    "            i += len(rows)\n",
    "\n",
    "        samples = np.zeros((len(rows),\n",
    "                           lookback // step,\n",
    "                           data.shape[-1]))\n",
    "        targets = np.zeros((len(rows),))\n",
    "        for j, row in enumerate(rows):\n",
    "            indices = range(rows[j] - lookback, rows[j], step)\n",
    "            samples[j] = data[indices]\n",
    "            targets[j] = data[rows[j] + delay][1]\n",
    "        yield samples, targets"
   ]
  },
  {
   "cell_type": "code",
   "execution_count": 7,
   "id": "6d2dcab5",
   "metadata": {},
   "outputs": [],
   "source": [
    "lookback = 1440\n",
    "step = 6\n",
    "delay = 144\n",
    "batch_size = 128\n",
    "\n",
    "train_gen = generator(float_data,\n",
    "                      lookback=lookback,\n",
    "                      delay=delay,\n",
    "                      min_index=0,\n",
    "                      max_index=200000,\n",
    "                      shuffle=True,\n",
    "                      step=step,\n",
    "                      batch_size = batch_size)\n",
    "\n",
    "val_gen = generator(float_data,\n",
    "                      lookback=lookback,\n",
    "                      delay=delay,\n",
    "                      min_index=200001,\n",
    "                      max_index=300000,\n",
    "                      step=step,\n",
    "                      batch_size = batch_size)\n",
    "\n",
    "test_gen = generator(float_data,\n",
    "                      lookback=lookback,\n",
    "                      delay=delay,\n",
    "                      min_index=300001,\n",
    "                      max_index=None,\n",
    "                      step=step,\n",
    "                      batch_size = batch_size)"
   ]
  },
  {
   "cell_type": "code",
   "execution_count": 8,
   "id": "bd757b1e",
   "metadata": {},
   "outputs": [],
   "source": [
    "val_steps = (300000 - 200001 - lookback) // batch_size\n",
    "test_steps = (len(float_data) - 300001 - lookback) // batch_size"
   ]
  },
  {
   "cell_type": "code",
   "execution_count": 9,
   "id": "c9a43366",
   "metadata": {},
   "outputs": [],
   "source": [
    "#обычная неглубокая нейронка\n",
    "\n",
    "from keras.models import Sequential\n",
    "from keras import layers\n",
    "from tensorflow.keras.optimizers import RMSprop\n",
    "\n",
    "model = Sequential()\n",
    "model.add(layers.Flatten(input_shape=(lookback // step, float_data.shape[-1])))\n",
    "model.add(layers.Dense(32, activation='relu'))\n",
    "model.add(layers.Dense(1))\n",
    "\n",
    "model.compile(optimizer=RMSprop(), loss='mae')"
   ]
  },
  {
   "cell_type": "code",
   "execution_count": 10,
   "id": "4971cafd",
   "metadata": {},
   "outputs": [
    {
     "name": "stderr",
     "output_type": "stream",
     "text": [
      "C:\\Users\\KOSMON~1\\AppData\\Local\\Temp/ipykernel_2632/4222724460.py:1: UserWarning: `Model.fit_generator` is deprecated and will be removed in a future version. Please use `Model.fit`, which supports generators.\n",
      "  history = model.fit_generator(train_gen,\n"
     ]
    },
    {
     "name": "stdout",
     "output_type": "stream",
     "text": [
      "Epoch 1/20\n",
      "500/500 [==============================] - 10s 17ms/step - loss: 1.0397 - val_loss: 0.5602\n",
      "Epoch 2/20\n",
      "500/500 [==============================] - 8s 17ms/step - loss: 0.3738 - val_loss: 0.3699\n",
      "Epoch 3/20\n",
      "500/500 [==============================] - 9s 17ms/step - loss: 0.2894 - val_loss: 0.3058\n",
      "Epoch 4/20\n",
      "500/500 [==============================] - 8s 17ms/step - loss: 0.2686 - val_loss: 0.3013\n",
      "Epoch 5/20\n",
      "500/500 [==============================] - 9s 17ms/step - loss: 0.2538 - val_loss: 0.3401\n",
      "Epoch 6/20\n",
      "500/500 [==============================] - 9s 17ms/step - loss: 0.2442 - val_loss: 0.3130\n",
      "Epoch 7/20\n",
      "500/500 [==============================] - 8s 17ms/step - loss: 0.2373 - val_loss: 0.3155\n",
      "Epoch 8/20\n",
      "500/500 [==============================] - 8s 17ms/step - loss: 0.2309 - val_loss: 0.3180\n",
      "Epoch 9/20\n",
      "500/500 [==============================] - 8s 17ms/step - loss: 0.2270 - val_loss: 0.3185\n",
      "Epoch 10/20\n",
      "500/500 [==============================] - 8s 17ms/step - loss: 0.2229 - val_loss: 0.3184\n",
      "Epoch 11/20\n",
      "500/500 [==============================] - 9s 17ms/step - loss: 0.2180 - val_loss: 0.3265\n",
      "Epoch 12/20\n",
      "500/500 [==============================] - 8s 17ms/step - loss: 0.2159 - val_loss: 0.3723\n",
      "Epoch 13/20\n",
      "500/500 [==============================] - 9s 17ms/step - loss: 0.2147 - val_loss: 0.3517\n",
      "Epoch 14/20\n",
      "500/500 [==============================] - 9s 17ms/step - loss: 0.2132 - val_loss: 0.3297\n",
      "Epoch 15/20\n",
      "500/500 [==============================] - 9s 17ms/step - loss: 0.2113 - val_loss: 0.3272\n",
      "Epoch 16/20\n",
      "500/500 [==============================] - 8s 17ms/step - loss: 0.2079 - val_loss: 0.3389\n",
      "Epoch 17/20\n",
      "500/500 [==============================] - 8s 17ms/step - loss: 0.2066 - val_loss: 0.3372\n",
      "Epoch 18/20\n",
      "500/500 [==============================] - 8s 17ms/step - loss: 0.2051 - val_loss: 0.3458\n",
      "Epoch 19/20\n",
      "500/500 [==============================] - 8s 17ms/step - loss: 0.2033 - val_loss: 0.3300\n",
      "Epoch 20/20\n",
      "500/500 [==============================] - 8s 17ms/step - loss: 0.2024 - val_loss: 0.3341\n"
     ]
    }
   ],
   "source": [
    "history = model.fit_generator(train_gen,\n",
    "                             steps_per_epoch=500,\n",
    "                             epochs=20,\n",
    "                             validation_data=val_gen,\n",
    "                             validation_steps=val_steps)"
   ]
  },
  {
   "cell_type": "code",
   "execution_count": 12,
   "id": "cb08a021",
   "metadata": {},
   "outputs": [
    {
     "data": {
      "image/png": "[encoded data removed]",
      "text/plain": [
       "<Figure size 432x288 with 1 Axes>"
      ]
     },
     "metadata": {
      "needs_background": "light"
     },
     "output_type": "display_data"
    }
   ],
   "source": [
    "import matplotlib.pyplot as plt\n",
    "\n",
    "loss = history.history['loss']\n",
    "val_loss = history.history['val_loss']\n",
    "epochs= range(1, len(loss) + 1)\n",
    "\n",
    "plt.figure()\n",
    "plt.plot(epochs, loss, 'bo', label='train loss')\n",
    "plt.plot(epochs, val_loss, 'b', label='validaton loss')\n",
    "plt.legend()\n",
    "plt.show()"
   ]
  },
  {
   "cell_type": "code",
   "execution_count": null,
   "id": "d6700a07",
   "metadata": {},
   "outputs": [],
   "source": []
  }
 ],
 "metadata": {
  "kernelspec": {
   "display_name": "Python 3 (ipykernel)",
   "language": "python",
   "name": "python3"
  },
  "language_info": {
   "codemirror_mode": {
    "name": "ipython",
    "version": 3
   },
   "file_extension": ".py",
   "mimetype": "text/x-python",
   "name": "python",
   "nbconvert_exporter": "python",
   "pygments_lexer": "ipython3",
   "version": "3.9.6"
  }
 },
 "nbformat": 4,
 "nbformat_minor": 5
}
