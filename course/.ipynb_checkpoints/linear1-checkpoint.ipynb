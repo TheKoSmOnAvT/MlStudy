{
 "cells": [
  {
   "cell_type": "code",
   "execution_count": 9,
   "id": "38375ef7",
   "metadata": {},
   "outputs": [],
   "source": [
    "import pandas as pd\n",
    "from sklearn.linear_model import LinearRegression\n",
    "import numpy as np"
   ]
  },
  {
   "cell_type": "code",
   "execution_count": 10,
   "id": "49bdb9e9",
   "metadata": {},
   "outputs": [],
   "source": [
    "data = pd.read_csv(\"linear1.csv\", delimiter=\",\")"
   ]
  },
  {
   "cell_type": "code",
   "execution_count": 11,
   "id": "ed2aae99",
   "metadata": {},
   "outputs": [
    {
     "name": "stdout",
     "output_type": "stream",
     "text": [
      "   id   X   Y\n",
      "0   1  12  38\n",
      "1   2  10  25\n",
      "2   3   4  10\n",
      "3   4  22  43\n",
      "4   5   1   2\n",
      "5   6  13  27\n",
      "6   7  23  37\n",
      "7   8   3  10\n",
      "8   9  14  27\n",
      "9  10  16  32\n"
     ]
    }
   ],
   "source": [
    "print(data)"
   ]
  },
  {
   "cell_type": "code",
   "execution_count": 12,
   "id": "8d7fca2a",
   "metadata": {},
   "outputs": [],
   "source": [
    "x = pd.DataFrame(data[\"X\"])\n",
    "y = pd.DataFrame(data[\"Y\"])"
   ]
  },
  {
   "cell_type": "code",
   "execution_count": 15,
   "id": "280df104",
   "metadata": {},
   "outputs": [
    {
     "name": "stdout",
     "output_type": "stream",
     "text": [
      "X    11.8\n",
      "dtype: float64\n",
      "Y    25.1\n",
      "dtype: float64\n"
     ]
    }
   ],
   "source": [
    "#выб среднее\n",
    "print(np.mean(x))\n",
    "print(np.mean(y))"
   ]
  },
  {
   "cell_type": "code",
   "execution_count": 16,
   "id": "65226f5b",
   "metadata": {},
   "outputs": [],
   "source": [
    "#создание регрес\n",
    "reg = LinearRegression().fit(x,y)"
   ]
  },
  {
   "cell_type": "code",
   "execution_count": 17,
   "id": "59523aae",
   "metadata": {},
   "outputs": [
    {
     "data": {
      "text/plain": [
       "array([5.39796716])"
      ]
     },
     "execution_count": 17,
     "metadata": {},
     "output_type": "execute_result"
    }
   ],
   "source": [
    "#сигма 0\n",
    "reg.intercept_"
   ]
  },
  {
   "cell_type": "code",
   "execution_count": 18,
   "id": "1db622a2",
   "metadata": {},
   "outputs": [
    {
     "data": {
      "text/plain": [
       "array([[1.6696638]])"
      ]
     },
     "execution_count": 18,
     "metadata": {},
     "output_type": "execute_result"
    }
   ],
   "source": [
    "#сигма 1\n",
    "reg.coef_"
   ]
  },
  {
   "cell_type": "code",
   "execution_count": 21,
   "id": "3f5e3852",
   "metadata": {},
   "outputs": [
    {
     "data": {
      "text/plain": [
       "0.8525475628109431"
      ]
     },
     "execution_count": 21,
     "metadata": {},
     "output_type": "execute_result"
    }
   ],
   "source": [
    "#r^2\n",
    "reg.score(x,y)"
   ]
  },
  {
   "cell_type": "code",
   "execution_count": null,
   "id": "81977309",
   "metadata": {},
   "outputs": [],
   "source": []
  }
 ],
 "metadata": {
  "kernelspec": {
   "display_name": "Python 3 (ipykernel)",
   "language": "python",
   "name": "python3"
  },
  "language_info": {
   "codemirror_mode": {
    "name": "ipython",
    "version": 3
   },
   "file_extension": ".py",
   "mimetype": "text/x-python",
   "name": "python",
   "nbconvert_exporter": "python",
   "pygments_lexer": "ipython3",
   "version": "3.9.6"
  }
 },
 "nbformat": 4,
 "nbformat_minor": 5
}
