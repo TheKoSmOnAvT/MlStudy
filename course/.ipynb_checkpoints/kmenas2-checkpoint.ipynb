{
 "cells": [
  {
   "cell_type": "code",
   "execution_count": 1,
   "id": "1f7d351e",
   "metadata": {},
   "outputs": [],
   "source": [
    "import pandas as pd\n",
    "import numpy as np\n",
    "from sklearn.cluster import KMeans"
   ]
  },
  {
   "cell_type": "code",
   "execution_count": 4,
   "id": "f1363780",
   "metadata": {},
   "outputs": [],
   "source": [
    "data = pd.read_csv(\"kmeans2.csv\", delimiter=',', index_col='Object')\n",
    "x = data.drop([\"Cluster\"], axis=1)"
   ]
  },
  {
   "cell_type": "code",
   "execution_count": 5,
   "id": "b9e0b319",
   "metadata": {},
   "outputs": [],
   "source": [
    "model = KMeans(n_clusters=3, init=np.array([[11.6, 12.4], [12.13, 9.13], [1.5, 18.0]]), max_iter=100, n_init=1)"
   ]
  },
  {
   "cell_type": "code",
   "execution_count": 6,
   "id": "c5f1c754",
   "metadata": {},
   "outputs": [
    {
     "data": {
      "text/plain": [
       "KMeans(init=array([[11.6 , 12.4 ],\n",
       "       [12.13,  9.13],\n",
       "       [ 1.5 , 18.  ]]),\n",
       "       max_iter=100, n_clusters=3, n_init=1)"
      ]
     },
     "execution_count": 6,
     "metadata": {},
     "output_type": "execute_result"
    }
   ],
   "source": [
    "model.fit(x)"
   ]
  },
  {
   "cell_type": "code",
   "execution_count": 7,
   "id": "fb3f8cd8",
   "metadata": {},
   "outputs": [
    {
     "data": {
      "text/plain": [
       "array([0, 0, 2, 0, 2, 2, 2, 0, 1, 1, 0, 1, 1, 2, 0])"
      ]
     },
     "execution_count": 7,
     "metadata": {},
     "output_type": "execute_result"
    }
   ],
   "source": [
    "model.labels_"
   ]
  },
  {
   "cell_type": "code",
   "execution_count": 9,
   "id": "8e53173b",
   "metadata": {},
   "outputs": [],
   "source": [
    "alldistances = KMeans(n_clusters=3, init=np.array([[11.6, 12.4], [12.13, 9.13], [1.5, 18.0]]), max_iter=100, n_init=1).fit_transform(x)"
   ]
  },
  {
   "cell_type": "code",
   "execution_count": 14,
   "id": "08461551",
   "metadata": {},
   "outputs": [
    {
     "data": {
      "text/plain": [
       "array([ 1.01379376,  9.26350366, 12.98768648])"
      ]
     },
     "execution_count": 14,
     "metadata": {},
     "output_type": "execute_result"
    }
   ],
   "source": [
    "alldistances[0]"
   ]
  },
  {
   "cell_type": "code",
   "execution_count": 27,
   "id": "49f326f5",
   "metadata": {},
   "outputs": [],
   "source": [
    "avg = 0\n",
    "count = 0\n",
    "index = 0\n",
    "for i in model.labels_.tolist():\n",
    "    if i == 0:\n",
    "        count+=1\n",
    "        avg += alldistances[index,0]\n",
    "    index+=1"
   ]
  },
  {
   "cell_type": "code",
   "execution_count": 29,
   "id": "ec8afbca",
   "metadata": {},
   "outputs": [
    {
     "data": {
      "text/plain": [
       "3.5940895699167448"
      ]
     },
     "execution_count": 29,
     "metadata": {},
     "output_type": "execute_result"
    }
   ],
   "source": [
    "\n",
    "avg/count"
   ]
  },
  {
   "cell_type": "code",
   "execution_count": null,
   "id": "31d25482",
   "metadata": {},
   "outputs": [],
   "source": []
  }
 ],
 "metadata": {
  "kernelspec": {
   "display_name": "Python 3 (ipykernel)",
   "language": "python",
   "name": "python3"
  },
  "language_info": {
   "codemirror_mode": {
    "name": "ipython",
    "version": 3
   },
   "file_extension": ".py",
   "mimetype": "text/x-python",
   "name": "python",
   "nbconvert_exporter": "python",
   "pygments_lexer": "ipython3",
   "version": "3.9.6"
  }
 },
 "nbformat": 4,
 "nbformat_minor": 5
}
