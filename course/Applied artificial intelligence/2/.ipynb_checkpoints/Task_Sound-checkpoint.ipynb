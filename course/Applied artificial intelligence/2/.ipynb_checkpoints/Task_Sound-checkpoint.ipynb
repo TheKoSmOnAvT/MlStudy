{
 "cells": [
  {
   "cell_type": "markdown",
   "metadata": {
    "id": "ZNP3DTIbs2Yw"
   },
   "source": [
    "Установка необходимых библиотек"
   ]
  },
  {
   "cell_type": "code",
   "execution_count": 1,
   "metadata": {
    "colab": {
     "base_uri": "https://localhost:8080/"
    },
    "id": "Vetqp0TQqonS",
    "outputId": "ecc87ee9-bec5-43dc-e2de-16b90ef0c0a1"
   },
   "outputs": [
    {
     "name": "stderr",
     "output_type": "stream",
     "text": [
      "\"sudo\" ­Ґ пў«пҐвбп ў­гваҐ­­Ґ© Ё«Ё ў­Ґи­Ґ©\n",
      "Є®¬ ­¤®©, ЁбЇ®«­пҐ¬®© Їа®Ја ¬¬®© Ё«Ё Ї ЄҐв­л¬ д ©«®¬.\n"
     ]
    },
    {
     "name": "stdout",
     "output_type": "stream",
     "text": [
      "Requirement already satisfied: pip in c:\\users\\kosmonavt\\appdata\\local\\programs\\python\\python39\\lib\\site-packages (22.0.4)\n",
      "Collecting SpeechRecognition==3.8.1\n",
      "  Downloading SpeechRecognition-3.8.1-py2.py3-none-any.whl (32.8 MB)\n",
      "     ---------------------------------------- 32.8/32.8 MB 1.9 MB/s eta 0:00:00\n",
      "Installing collected packages: SpeechRecognition\n",
      "Successfully installed SpeechRecognition-3.8.1\n",
      "Collecting pocketsphinx==0.1.15"
     ]
    },
    {
     "name": "stderr",
     "output_type": "stream",
     "text": [
      "  error: subprocess-exited-with-error\n",
      "  \n",
      "  python setup.py bdist_wheel did not run successfully.\n",
      "  exit code: 1\n",
      "  \n",
      "  [6 lines of output]\n",
      "  running bdist_wheel\n",
      "  running build_ext\n",
      "  building 'sphinxbase._sphinxbase' extension\n",
      "  swigging deps/sphinxbase/swig/sphinxbase.i to deps/sphinxbase/swig/sphinxbase_wrap.c\n",
      "  swig.exe -python -modern -threads -Ideps/sphinxbase/include -Ideps/sphinxbase/include/sphinxbase -Ideps/sphinxbase/include/win32 -Ideps/sphinxbase/swig -outdir sphinxbase -o deps/sphinxbase/swig/sphinxbase_wrap.c deps/sphinxbase/swig/sphinxbase.i"
     ]
    },
    {
     "name": "stdout",
     "output_type": "stream",
     "text": [
      "\n",
      "  Downloading pocketsphinx-0.1.15.tar.gz (29.1 MB)\n",
      "     ---------------------------------------- 29.1/29.1 MB 1.8 MB/s eta 0:00:00\n",
      "  Preparing metadata (setup.py): started\n",
      "  Preparing metadata (setup.py): finished with status 'done'\n",
      "Building wheels for collected packages: pocketsphinx\n",
      "  Building wheel for pocketsphinx (setup.py): started\n",
      "  Building wheel for pocketsphinx (setup.py): finished with status 'error'\n",
      "  Running setup.py clean for pocketsphinx\n",
      "Failed to build pocketsphinx\n",
      "Installing collected packages: pocketsphinx\n",
      "  Running setup.py install for pocketsphinx: started\n",
      "  Running setup.py install for pocketsphinx: finished with status 'error'\n"
     ]
    },
    {
     "name": "stderr",
     "output_type": "stream",
     "text": [
      "\n",
      "  error: command 'swig.exe' failed: None\n",
      "  [end of output]\n",
      "  \n",
      "  note: This error originates from a subprocess, and is likely not a problem with pip.\n",
      "  ERROR: Failed building wheel for pocketsphinx\n",
      "  error: subprocess-exited-with-error\n",
      "  \n",
      "  Running setup.py install for pocketsphinx did not run successfully.\n",
      "  exit code: 1\n",
      "  \n",
      "  [6 lines of output]\n",
      "  running install\n",
      "  running build_ext\n",
      "  building 'sphinxbase._sphinxbase' extension\n",
      "  swigging deps/sphinxbase/swig/sphinxbase.i to deps/sphinxbase/swig/sphinxbase_wrap.c\n",
      "  swig.exe -python -modern -threads -Ideps/sphinxbase/include -Ideps/sphinxbase/include/sphinxbase -Ideps/sphinxbase/include/win32 -Ideps/sphinxbase/swig -outdir sphinxbase -o deps/sphinxbase/swig/sphinxbase_wrap.c deps/sphinxbase/swig/sphinxbase.i\n",
      "  error: command 'swig.exe' failed: None\n",
      "  [end of output]\n",
      "  \n",
      "  note: This error originates from a subprocess, and is likely not a problem with pip.\n",
      "error: legacy-install-failure\n",
      "\n",
      "Encountered error while trying to install package.\n",
      "\n",
      "pocketsphinx\n",
      "\n",
      "note: This is an issue with the package mentioned above, not pip.\n",
      "hint: See above for output from the failure.\n"
     ]
    }
   ],
   "source": [
    "!sudo apt-get install -y python python-dev python-pip build-essential swig git libpulse-dev\n",
    "!pip install --upgrade pip\n",
    "!pip install SpeechRecognition==3.8.1\n",
    "!pip install pocketsphinx==0.1.15"
   ]
  },
  {
   "cell_type": "markdown",
   "metadata": {
    "id": "45vHeCFfqone"
   },
   "source": [
    "Подключение библиотеки"
   ]
  },
  {
   "cell_type": "code",
   "execution_count": 2,
   "metadata": {
    "id": "6SH2matOqong"
   },
   "outputs": [],
   "source": [
    "import speech_recognition as sr"
   ]
  },
  {
   "cell_type": "markdown",
   "metadata": {
    "id": "MBSQMDVmqonn"
   },
   "source": [
    "Довольно простой код для распознавания звуковых файлов и обработки возможных ошибок:"
   ]
  },
  {
   "cell_type": "code",
   "execution_count": 3,
   "metadata": {
    "colab": {
     "base_uri": "https://localhost:8080/"
    },
    "id": "uU6kwHlPqonp",
    "outputId": "346ae981-3797-41f3-df9e-4fe61272feeb"
   },
   "outputs": [
    {
     "name": "stdout",
     "output_type": "stream",
     "text": [
      "Результат Sphinx: he has bigger fish to fry\n",
      "Результат Google: he has bigger fish to fry\n"
     ]
    }
   ],
   "source": [
    "# Имя файла, который требуется распознать\n",
    "AUDIO_FILE = '0.wav'\n",
    "\n",
    "# Чтение файла\n",
    "r = sr.Recognizer()\n",
    "with sr.AudioFile(AUDIO_FILE) as source:\n",
    "    audio = r.record(source)\n",
    "\n",
    "# Распознавание с помощью Sphinx\n",
    "try:\n",
    "    print(\"Результат Sphinx: \" + r.recognize_sphinx(audio))\n",
    "except sr.UnknownValueError:\n",
    "    print(\"Ошибка: Sphinx could not understand audio\")\n",
    "except sr.RequestError as e:\n",
    "    print(\"Ошибка: Sphinx error; {0}\".format(e))\n",
    "\n",
    "# Распознавание с помощью Google\n",
    "try:\n",
    "    print(\"Результат Google: \" + r.recognize_google(audio))\n",
    "except sr.UnknownValueError:\n",
    "    print(\"Ошибка: Google Speech Recognition could not understand audio\")\n",
    "except sr.RequestError as e:\n",
    "    print(\"Ошибка: Could not request results from Google; {0}\".format(e))"
   ]
  }
 ],
 "metadata": {
  "colab": {
   "collapsed_sections": [],
   "name": "Task_Sound.ipynb",
   "provenance": []
  },
  "kernelspec": {
   "display_name": "Python 3 (ipykernel)",
   "language": "python",
   "name": "python3"
  },
  "language_info": {
   "codemirror_mode": {
    "name": "ipython",
    "version": 3
   },
   "file_extension": ".py",
   "mimetype": "text/x-python",
   "name": "python",
   "nbconvert_exporter": "python",
   "pygments_lexer": "ipython3",
   "version": "3.9.6"
  }
 },
 "nbformat": 4,
 "nbformat_minor": 1
}
