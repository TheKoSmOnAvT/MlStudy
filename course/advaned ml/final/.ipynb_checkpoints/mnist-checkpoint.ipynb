{
 "cells": [
  {
   "cell_type": "code",
   "execution_count": 107,
   "id": "5d87a541",
   "metadata": {},
   "outputs": [],
   "source": [
    "import numpy as np\n",
    "import keras \n",
    "import matplotlib\n",
    "import matplotlib.pyplot as plt\n",
    "from keras.datasets import mnist"
   ]
  },
  {
   "cell_type": "code",
   "execution_count": 108,
   "id": "a7d0ecbb",
   "metadata": {},
   "outputs": [],
   "source": [
    "(X_train, Y_train), (X_pred, Y_pred) = mnist.load_data()"
   ]
  },
  {
   "cell_type": "code",
   "execution_count": 109,
   "id": "199c8589",
   "metadata": {},
   "outputs": [
    {
     "data": {
      "text/plain": [
       "60000"
      ]
     },
     "execution_count": 109,
     "metadata": {},
     "output_type": "execute_result"
    }
   ],
   "source": [
    "len(X_train)"
   ]
  },
  {
   "cell_type": "code",
   "execution_count": 110,
   "id": "622cebf1",
   "metadata": {},
   "outputs": [
    {
     "data": {
      "text/plain": [
       "<matplotlib.image.AxesImage at 0x24bb412a760>"
      ]
     },
     "execution_count": 110,
     "metadata": {},
     "output_type": "execute_result"
    },
    {
     "data": {
      "image/png": "[encoded data removed]",
      "text/plain": [
       "<Figure size 432x288 with 1 Axes>"
      ]
     },
     "metadata": {
      "needs_background": "light"
     },
     "output_type": "display_data"
    }
   ],
   "source": [
    "plt.imshow(X_train[0])"
   ]
  },
  {
   "cell_type": "code",
   "execution_count": 111,
   "id": "d4471221",
   "metadata": {},
   "outputs": [
    {
     "data": {
      "text/plain": [
       "5"
      ]
     },
     "execution_count": 111,
     "metadata": {},
     "output_type": "execute_result"
    }
   ],
   "source": [
    "Y_train[0]"
   ]
  },
  {
   "cell_type": "code",
   "execution_count": 112,
   "id": "c82d1404",
   "metadata": {},
   "outputs": [],
   "source": [
    "from sklearn.model_selection import train_test_split\n",
    "\n",
    "x_train, x_test, y_train, y_test = train_test_split(X_train, Y_train,\n",
    "                                                    test_size=0.3, random_state=95)"
   ]
  },
  {
   "cell_type": "code",
   "execution_count": 113,
   "id": "c0639a50",
   "metadata": {},
   "outputs": [],
   "source": [
    "dim = 28*28\n",
    "X_train = X_train.reshape(len(X_train), dim)\n",
    "x_test = x_test.reshape(len(x_test), dim)"
   ]
  },
  {
   "cell_type": "code",
   "execution_count": 114,
   "id": "8ae701e9",
   "metadata": {},
   "outputs": [],
   "source": [
    "#Используйте метод главных компонент для набора данных MNIST (train dataset объема 60000). \n",
    "#Определите, какое минимальное количество главных компонент  необходимо использовать, \n",
    "#чтобы доля объясненной дисперсии превышала 0.84 (была строго больше указанного значения).\n",
    "\n",
    "from sklearn.decomposition import PCA\n",
    "\n",
    "n_components = 56\n",
    "\n",
    "\n",
    "pca = PCA(n_components=n_components, svd_solver='full')\n",
    "modelPCA = pca.fit(X_train)\n",
    "X_train = modelPCA.transform(X_train)"
   ]
  },
  {
   "cell_type": "code",
   "execution_count": 115,
   "id": "e988de0d",
   "metadata": {},
   "outputs": [
    {
     "name": "stdout",
     "output_type": "stream",
     "text": [
      "[0.097  0.168  0.2297 0.2836 0.3323 0.3754 0.4081 0.437  0.4646 0.4881\n",
      " 0.5092 0.5295 0.5466 0.5636 0.5793 0.5942 0.6074 0.6202 0.6321 0.6436\n",
      " 0.6542 0.6643 0.6738 0.683  0.6918 0.7002 0.7083 0.7162 0.7236 0.7305\n",
      " 0.7371 0.7436 0.7496 0.7555 0.7612 0.7666 0.7717 0.7766 0.7814 0.7861\n",
      " 0.7907 0.7951 0.7993 0.8033 0.8071 0.8109 0.8145 0.818  0.8214 0.8246\n",
      " 0.8278 0.831  0.8339 0.8368 0.8397 0.8424]\n"
     ]
    },
    {
     "data": {
      "text/plain": [
       "[<matplotlib.lines.Line2D at 0x24bb44e0850>]"
      ]
     },
     "execution_count": 115,
     "metadata": {},
     "output_type": "execute_result"
    },
    {
     "data": {
      "image/png": "[encoded data removed]",
      "text/plain": [
       "<Figure size 432x288 with 1 Axes>"
      ]
     },
     "metadata": {
      "needs_background": "light"
     },
     "output_type": "display_data"
    }
   ],
   "source": [
    "#Найдем долю объясненной дисперсии в зависимости от количества используемых ГК.\n",
    "explained_variance = np.round(np.cumsum(pca.explained_variance_ratio_),4)\n",
    "print(explained_variance)\n",
    "plt.plot(np.arange(len(explained_variance)), explained_variance, ls = '-')"
   ]
  },
  {
   "cell_type": "code",
   "execution_count": 116,
   "id": "83899426",
   "metadata": {},
   "outputs": [],
   "source": [
    "from statistics import mean\n",
    "x_train, x_test, y_train, y_test = train_test_split(X_train, Y_train, test_size=0.3, random_state=95)\n"
   ]
  },
  {
   "cell_type": "code",
   "execution_count": 169,
   "id": "70b0f23c",
   "metadata": {},
   "outputs": [
    {
     "data": {
      "text/plain": [
       "array([[ 123.93258866, -312.67426202,  -24.51405176, ...,   87.60119904,\n",
       "           3.10258115, -164.08696674],\n",
       "       [1011.71837587, -294.85703827,  596.33956104, ...,  -18.62196333,\n",
       "          80.58986121,  -60.44271239],\n",
       "       [ -51.84960805,  392.17315286, -188.50974943, ...,  154.3020004 ,\n",
       "        -195.5359139 , -181.6729221 ],\n",
       "       ...,\n",
       "       [-178.0534496 ,  160.07821109, -257.61308227, ...,  -51.15541281,\n",
       "         -25.16410434,    5.40559171],\n",
       "       [ 130.60607208,   -5.59193642,  513.85867395, ..., -249.3255139 ,\n",
       "         175.48957045,  -90.05790799],\n",
       "       [-173.43595244,  -24.71880226,  556.01889393, ...,   83.60939572,\n",
       "         -39.50295294,  274.83391159]])"
      ]
     },
     "execution_count": 169,
     "metadata": {},
     "output_type": "execute_result"
    }
   ],
   "source": [
    "X_train"
   ]
  },
  {
   "cell_type": "code",
   "execution_count": 171,
   "id": "eea3810b",
   "metadata": {},
   "outputs": [
    {
     "name": "stdout",
     "output_type": "stream",
     "text": [
      "2.971617310280483\n"
     ]
    }
   ],
   "source": [
    "summ = 0\n",
    "count = 0\n",
    "for i in x_train:\n",
    "    summ+= i[0]\n",
    "    count+=1\n",
    "print(summ/count)"
   ]
  },
  {
   "cell_type": "code",
   "execution_count": 118,
   "id": "ca24518d",
   "metadata": {},
   "outputs": [],
   "source": [
    "from sklearn.multiclass import OneVsRestClassifier\n",
    "from sklearn.tree import DecisionTreeClassifier\n",
    "from sklearn.ensemble import RandomForestClassifier\n",
    "from sklearn.linear_model import LogisticRegression"
   ]
  },
  {
   "cell_type": "code",
   "execution_count": 119,
   "id": "a1c509a0",
   "metadata": {},
   "outputs": [
    {
     "name": "stderr",
     "output_type": "stream",
     "text": [
      "c:\\users\\kosmonavt\\appdata\\local\\programs\\python\\python39\\lib\\site-packages\\sklearn\\linear_model\\_logistic.py:814: ConvergenceWarning: lbfgs failed to converge (status=1):\n",
      "STOP: TOTAL NO. of ITERATIONS REACHED LIMIT.\n",
      "\n",
      "Increase the number of iterations (max_iter) or scale the data as shown in:\n",
      "    https://scikit-learn.org/stable/modules/preprocessing.html\n",
      "Please also refer to the documentation for alternative solver options:\n",
      "    https://scikit-learn.org/stable/modules/linear_model.html#logistic-regression\n",
      "  n_iter_i = _check_optimize_result(\n",
      "c:\\users\\kosmonavt\\appdata\\local\\programs\\python\\python39\\lib\\site-packages\\sklearn\\linear_model\\_logistic.py:814: ConvergenceWarning: lbfgs failed to converge (status=1):\n",
      "STOP: TOTAL NO. of ITERATIONS REACHED LIMIT.\n",
      "\n",
      "Increase the number of iterations (max_iter) or scale the data as shown in:\n",
      "    https://scikit-learn.org/stable/modules/preprocessing.html\n",
      "Please also refer to the documentation for alternative solver options:\n",
      "    https://scikit-learn.org/stable/modules/linear_model.html#logistic-regression\n",
      "  n_iter_i = _check_optimize_result(\n"
     ]
    }
   ],
   "source": [
    "#Используя метод многоклассовой классификации One-vs-All OneVsRestClassifier(), \n",
    "#обучите алгоритм случайного леса RandomForestClassifier() с параметрами criterion='gini', \n",
    "#min_samples_leaf=10, max_depth=20, n_estimators=10, random_state=95. \n",
    "#Выполните оценку с помощью тестовых данных.\n",
    "\n",
    "\n",
    "tree = RandomForestClassifier(criterion='gini', min_samples_leaf=10, max_depth=20, n_estimators=10, random_state=95)\n",
    "onvrc1 = OneVsRestClassifier(tree).fit(x_train, y_train)\n",
    "\n",
    "logistic = LogisticRegression(solver='lbfgs', random_state=95)\n",
    "onvrc2 = OneVsRestClassifier(logistic).fit(x_train, y_train)\n",
    "\n",
    "dec = DecisionTreeClassifier(criterion='gini', min_samples_leaf=10, max_depth=20, random_state=95)\n",
    "onvrc3 = OneVsRestClassifier(dec).fit(x_train, y_train)\n"
   ]
  },
  {
   "cell_type": "code",
   "execution_count": 131,
   "id": "d58d585e",
   "metadata": {},
   "outputs": [],
   "source": [
    "#Введите количество верно классифицированных объектов класса 4 для тестовых данных:\n",
    "\n",
    "#x_test1 = modelPCA.transform(x_test)\n",
    "y_pred = onvrc1.predict(x_test)\n",
    "\n"
   ]
  },
  {
   "cell_type": "code",
   "execution_count": 132,
   "id": "087a7538",
   "metadata": {},
   "outputs": [
    {
     "data": {
      "text/plain": [
       "array([2, 2, 5, ..., 5, 7, 9], dtype=uint8)"
      ]
     },
     "execution_count": 132,
     "metadata": {},
     "output_type": "execute_result"
    }
   ],
   "source": [
    "y_pred"
   ]
  },
  {
   "cell_type": "code",
   "execution_count": 133,
   "id": "bb912a02",
   "metadata": {},
   "outputs": [],
   "source": [
    "from sklearn.metrics import confusion_matrix\n",
    "CM = confusion_matrix( y_pred,y_test)"
   ]
  },
  {
   "cell_type": "code",
   "execution_count": 134,
   "id": "828c978d",
   "metadata": {},
   "outputs": [
    {
     "data": {
      "text/plain": [
       "array([[1643,    2,   11,    5,    8,   22,   25,    9,   21,   14],\n",
       "       [   0, 1989,   12,    5,   11,    3,    1,   19,   11,   12],\n",
       "       [   8,   13, 1661,   55,   16,   11,   11,   22,   23,   10],\n",
       "       [   3,    6,   23, 1600,    0,   68,    2,    7,   60,   26],\n",
       "       [   3,    3,   10,    4, 1603,   14,    4,   35,   10,   73],\n",
       "       [   7,    7,    7,   59,    9, 1409,   28,    7,   59,   11],\n",
       "       [  20,    5,   11,    4,   24,   26, 1720,    1,    9,    3],\n",
       "       [   6,    7,   28,   13,    8,    4,    0, 1794,    7,   34],\n",
       "       [   8,    6,   38,   33,   16,   29,   11,   12, 1480,   14],\n",
       "       [   3,    4,    8,   18,   71,   14,    0,   49,   25, 1627]],\n",
       "      dtype=int64)"
      ]
     },
     "execution_count": 134,
     "metadata": {},
     "output_type": "execute_result"
    }
   ],
   "source": [
    "CM"
   ]
  },
  {
   "cell_type": "code",
   "execution_count": 135,
   "id": "1e4795ce",
   "metadata": {},
   "outputs": [
    {
     "data": {
      "text/plain": [
       "1603"
      ]
     },
     "execution_count": 135,
     "metadata": {},
     "output_type": "execute_result"
    }
   ],
   "source": [
    "#Введите количество верно классифицированных объектов класса 4 для тестовых данных:\n",
    "CM[4][4]"
   ]
  },
  {
   "cell_type": "code",
   "execution_count": 159,
   "id": "75a7e138",
   "metadata": {},
   "outputs": [],
   "source": [
    "import pandas as pd\n",
    "\n",
    "df = pd.read_csv('pred_for_task.csv') "
   ]
  },
  {
   "cell_type": "code",
   "execution_count": 160,
   "id": "8e98ae96",
   "metadata": {},
   "outputs": [],
   "source": [
    "file = df[df['FileName']== 'file23']"
   ]
  },
  {
   "cell_type": "code",
   "execution_count": 161,
   "id": "1a460c81",
   "metadata": {},
   "outputs": [],
   "source": [
    "var = file[file.columns[2:]].values.tolist()\n",
    "\n",
    "x1 = np.asarray(var)\n",
    "\n",
    "dim = 28*28\n",
    "x = x1.reshape(len(x1), dim)\n",
    "x = modelPCA.transform(x1)"
   ]
  },
  {
   "cell_type": "code",
   "execution_count": 164,
   "id": "1e8164cb",
   "metadata": {},
   "outputs": [
    {
     "data": {
      "text/plain": [
       "array([[4.53806299e-05, 0.00000000e+00, 0.00000000e+00, 2.61194377e-04,\n",
       "        0.00000000e+00, 1.09856420e-02, 9.88707783e-01, 0.00000000e+00,\n",
       "        0.00000000e+00, 0.00000000e+00]])"
      ]
     },
     "execution_count": 164,
     "metadata": {},
     "output_type": "execute_result"
    }
   ],
   "source": [
    "onvrc3.predict_proba(x)"
   ]
  },
  {
   "cell_type": "code",
   "execution_count": 149,
   "id": "442f3597",
   "metadata": {},
   "outputs": [
    {
     "data": {
      "text/plain": [
       "array([7], dtype=uint8)"
      ]
     },
     "execution_count": 149,
     "metadata": {},
     "output_type": "execute_result"
    }
   ],
   "source": [
    "onvrc2.predict(x)"
   ]
  }
 ],
 "metadata": {
  "kernelspec": {
   "display_name": "Python 3 (ipykernel)",
   "language": "python",
   "name": "python3"
  },
  "language_info": {
   "codemirror_mode": {
    "name": "ipython",
    "version": 3
   },
   "file_extension": ".py",
   "mimetype": "text/x-python",
   "name": "python",
   "nbconvert_exporter": "python",
   "pygments_lexer": "ipython3",
   "version": "3.9.6"
  }
 },
 "nbformat": 4,
 "nbformat_minor": 5
}
