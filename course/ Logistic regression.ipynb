{
 "cells": [
  {
   "cell_type": "code",
   "execution_count": 1,
   "id": "cc412dec",
   "metadata": {},
   "outputs": [],
   "source": [
    "import pandas as pd"
   ]
  },
  {
   "cell_type": "code",
   "execution_count": 2,
   "id": "5741857b",
   "metadata": {},
   "outputs": [],
   "source": [
    "train_data = pd.read_csv(\"candy-data1.csv\", delimiter = \",\", index_col = \"competitorname\")\n",
    "test_data = pd.read_csv(\"candy-test1.csv\", delimiter = \",\", index_col = \"competitorname\")"
   ]
  },
  {
   "cell_type": "code",
   "execution_count": 3,
   "id": "b8117404",
   "metadata": {},
   "outputs": [],
   "source": [
    "from sklearn.linear_model  import LogisticRegression"
   ]
  },
  {
   "cell_type": "code",
   "execution_count": 5,
   "id": "c9b4a438",
   "metadata": {},
   "outputs": [],
   "source": [
    "data_to_train = train_data.drop([\"Nestle Crunch\", \"Skittles wildberry\", \"Sour Patch Tricksters\"])"
   ]
  },
  {
   "cell_type": "code",
   "execution_count": 6,
   "id": "e5359ee5",
   "metadata": {},
   "outputs": [],
   "source": [
    "X = pd.DataFrame(data_to_train.drop(['winpercent', 'Y'], axis=1))\n",
    "Y = pd.DataFrame(data_to_train[\"Y\"])"
   ]
  },
  {
   "cell_type": "code",
   "execution_count": 8,
   "id": "984132b0",
   "metadata": {},
   "outputs": [],
   "source": [
    "LR = LogisticRegression(random_state=2019, solver='lbfgs').fit(X,Y.values.ravel())"
   ]
  },
  {
   "cell_type": "code",
   "execution_count": 9,
   "id": "dc877c7c",
   "metadata": {},
   "outputs": [],
   "source": [
    "trolliSourBites = test_data.loc[\"Trolli Sour Bites\",:].to_frame().T\n",
    "twizzlers = test_data.loc[\"Twizzlers\",:].to_frame().T"
   ]
  },
  {
   "cell_type": "code",
   "execution_count": 12,
   "id": "221a968f",
   "metadata": {},
   "outputs": [
    {
     "data": {
      "text/plain": [
       "array([[0.70832211, 0.29167789]])"
      ]
     },
     "execution_count": 12,
     "metadata": {},
     "output_type": "execute_result"
    }
   ],
   "source": [
    "LR.predict_proba(trolliSourBites.drop(['Y'],axis=1))"
   ]
  },
  {
   "cell_type": "code",
   "execution_count": 13,
   "id": "7cffb5c3",
   "metadata": {},
   "outputs": [
    {
     "data": {
      "text/plain": [
       "array([[0.6962054, 0.3037946]])"
      ]
     },
     "execution_count": 13,
     "metadata": {},
     "output_type": "execute_result"
    }
   ],
   "source": [
    "LR.predict_proba(twizzlers.drop(['Y'],axis=1))"
   ]
  },
  {
   "cell_type": "code",
   "execution_count": 36,
   "id": "1a5bdb27",
   "metadata": {},
   "outputs": [],
   "source": [
    "X_test = pd.DataFrame(test_data.drop(['Y'],axis=1))"
   ]
  },
  {
   "cell_type": "code",
   "execution_count": 37,
   "id": "58286b77",
   "metadata": {},
   "outputs": [],
   "source": [
    "y = LR.predict(X_test)"
   ]
  },
  {
   "cell_type": "code",
   "execution_count": 38,
   "id": "0b8f3c95",
   "metadata": {},
   "outputs": [],
   "source": [
    "y_prob = LR.predict_proba(X_test)"
   ]
  },
  {
   "cell_type": "code",
   "execution_count": 39,
   "id": "47ba2030",
   "metadata": {},
   "outputs": [],
   "source": [
    "y_prob_class1 = y_prob[:,1]"
   ]
  },
  {
   "cell_type": "code",
   "execution_count": 40,
   "id": "b0860a00",
   "metadata": {},
   "outputs": [],
   "source": [
    "Y_true = (test_data['Y'].to_frame().T).values.ravel()"
   ]
  },
  {
   "cell_type": "code",
   "execution_count": 41,
   "id": "394edd6c",
   "metadata": {},
   "outputs": [],
   "source": [
    "from sklearn import metrics"
   ]
  },
  {
   "cell_type": "code",
   "execution_count": 42,
   "id": "587001ae",
   "metadata": {},
   "outputs": [
    {
     "data": {
      "text/plain": [
       "array([0, 0, 0, 0, 1, 1, 1, 1, 0, 0, 0, 0, 0, 1, 1], dtype=int64)"
      ]
     },
     "execution_count": 42,
     "metadata": {},
     "output_type": "execute_result"
    }
   ],
   "source": [
    "y"
   ]
  },
  {
   "cell_type": "code",
   "execution_count": 43,
   "id": "50bd6aa3",
   "metadata": {},
   "outputs": [
    {
     "data": {
      "text/plain": [
       "array([0, 0, 0, 1, 1, 0, 0, 1, 0, 1, 0, 0, 0, 0, 1], dtype=int64)"
      ]
     },
     "execution_count": 43,
     "metadata": {},
     "output_type": "execute_result"
    }
   ],
   "source": [
    "Y_true"
   ]
  },
  {
   "cell_type": "code",
   "execution_count": 44,
   "id": "ba5f1d7f",
   "metadata": {},
   "outputs": [],
   "source": [
    "fpr, tpr, _ = metrics.roc_curve(Y_true, y)"
   ]
  },
  {
   "cell_type": "code",
   "execution_count": 45,
   "id": "96b4f6a0",
   "metadata": {},
   "outputs": [
    {
     "data": {
      "text/plain": [
       "0.84"
      ]
     },
     "execution_count": 45,
     "metadata": {},
     "output_type": "execute_result"
    }
   ],
   "source": [
    "metrics.roc_auc_score(Y_true, y_prob_class1)"
   ]
  },
  {
   "cell_type": "code",
   "execution_count": 46,
   "id": "acc1a63d",
   "metadata": {},
   "outputs": [
    {
     "data": {
      "text/plain": [
       "0.5"
      ]
     },
     "execution_count": 46,
     "metadata": {},
     "output_type": "execute_result"
    }
   ],
   "source": [
    "metrics.precision_score(Y_true, y)"
   ]
  },
  {
   "cell_type": "code",
   "execution_count": 47,
   "id": "25e9ec83",
   "metadata": {},
   "outputs": [
    {
     "data": {
      "text/plain": [
       "0.6"
      ]
     },
     "execution_count": 47,
     "metadata": {},
     "output_type": "execute_result"
    }
   ],
   "source": [
    "metrics.recall_score(Y_true, y)"
   ]
  },
  {
   "cell_type": "code",
   "execution_count": 48,
   "id": "b0ef264b",
   "metadata": {},
   "outputs": [],
   "source": [
    "import matplotlib.pyplot as plt\n",
    "%matplotlib inline"
   ]
  },
  {
   "cell_type": "code",
   "execution_count": 50,
   "id": "d680bd9e",
   "metadata": {},
   "outputs": [
    {
     "data": {
      "image/png": "[encoded data removed]",
      "text/plain": [
       "<Figure size 432x288 with 1 Axes>"
      ]
     },
     "metadata": {
      "needs_background": "light"
     },
     "output_type": "display_data"
    }
   ],
   "source": [
    "metrics.plot_roc_curve(LR, X_test, Y_true, color='darkorange') \n",
    "plt.xlim([0.0, 1.0])\n",
    "plt.ylim([0.0, 1.05])\n",
    "plt.xlabel('False Positive Rate')\n",
    "plt.ylabel('True Positive Rate')\n",
    "plt.title('Receiver operating characteristic example')\n",
    "plt.legend(loc=\"lower right\")\n",
    "plt.plot([0, 1], [0, 1], color='navy', lw=2, linestyle='--')\n",
    "plt.show()\n"
   ]
  },
  {
   "cell_type": "code",
   "execution_count": null,
   "id": "33c05ee0",
   "metadata": {},
   "outputs": [],
   "source": []
  }
 ],
 "metadata": {
  "kernelspec": {
   "display_name": "Python 3 (ipykernel)",
   "language": "python",
   "name": "python3"
  },
  "language_info": {
   "codemirror_mode": {
    "name": "ipython",
    "version": 3
   },
   "file_extension": ".py",
   "mimetype": "text/x-python",
   "name": "python",
   "nbconvert_exporter": "python",
   "pygments_lexer": "ipython3",
   "version": "3.9.6"
  }
 },
 "nbformat": 4,
 "nbformat_minor": 5
}
