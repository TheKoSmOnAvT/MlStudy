{
 "cells": [
  {
   "cell_type": "code",
   "execution_count": 2,
   "id": "f3419175",
   "metadata": {},
   "outputs": [],
   "source": [
    "import pandas as pd"
   ]
  },
  {
   "cell_type": "code",
   "execution_count": 9,
   "id": "5050bf5d",
   "metadata": {},
   "outputs": [],
   "source": [
    "data = pd.read_csv(\"test.csv\", delimiter=',')\n"
   ]
  },
  {
   "cell_type": "code",
   "execution_count": 10,
   "id": "ae33dca8",
   "metadata": {},
   "outputs": [
    {
     "data": {
      "text/html": [
       "<div>\n",
       "<style scoped>\n",
       "    .dataframe tbody tr th:only-of-type {\n",
       "        vertical-align: middle;\n",
       "    }\n",
       "\n",
       "    .dataframe tbody tr th {\n",
       "        vertical-align: top;\n",
       "    }\n",
       "\n",
       "    .dataframe thead th {\n",
       "        text-align: right;\n",
       "    }\n",
       "</style>\n",
       "<table border=\"1\" class=\"dataframe\">\n",
       "  <thead>\n",
       "    <tr style=\"text-align: right;\">\n",
       "      <th></th>\n",
       "      <th>MIP</th>\n",
       "      <th>STDIP</th>\n",
       "      <th>EKIP</th>\n",
       "      <th>SIP</th>\n",
       "      <th>MC</th>\n",
       "      <th>STDC</th>\n",
       "      <th>EKC</th>\n",
       "      <th>SC</th>\n",
       "      <th>TARGET</th>\n",
       "    </tr>\n",
       "  </thead>\n",
       "  <tbody>\n",
       "    <tr>\n",
       "      <th>0</th>\n",
       "      <td>0.988852</td>\n",
       "      <td>0.267196</td>\n",
       "      <td>0.252354</td>\n",
       "      <td>0.165954</td>\n",
       "      <td>0.011335</td>\n",
       "      <td>0.071655</td>\n",
       "      <td>0.393315</td>\n",
       "      <td>0.154903</td>\n",
       "      <td>0</td>\n",
       "    </tr>\n",
       "    <tr>\n",
       "      <th>1</th>\n",
       "      <td>0.166391</td>\n",
       "      <td>0.479300</td>\n",
       "      <td>0.557995</td>\n",
       "      <td>0.207376</td>\n",
       "      <td>0.160766</td>\n",
       "      <td>0.616598</td>\n",
       "      <td>0.125296</td>\n",
       "      <td>0.007057</td>\n",
       "      <td>1</td>\n",
       "    </tr>\n",
       "    <tr>\n",
       "      <th>2</th>\n",
       "      <td>0.992981</td>\n",
       "      <td>0.178583</td>\n",
       "      <td>0.141787</td>\n",
       "      <td>0.177886</td>\n",
       "      <td>0.009544</td>\n",
       "      <td>0.050400</td>\n",
       "      <td>0.440711</td>\n",
       "      <td>0.213450</td>\n",
       "      <td>0</td>\n",
       "    </tr>\n",
       "    <tr>\n",
       "      <th>3</th>\n",
       "      <td>0.139967</td>\n",
       "      <td>0.064784</td>\n",
       "      <td>0.651744</td>\n",
       "      <td>0.549223</td>\n",
       "      <td>0.043477</td>\n",
       "      <td>0.332787</td>\n",
       "      <td>0.230759</td>\n",
       "      <td>0.036206</td>\n",
       "      <td>1</td>\n",
       "    </tr>\n",
       "    <tr>\n",
       "      <th>4</th>\n",
       "      <td>0.160198</td>\n",
       "      <td>0.437008</td>\n",
       "      <td>0.519065</td>\n",
       "      <td>0.153639</td>\n",
       "      <td>0.386742</td>\n",
       "      <td>0.768935</td>\n",
       "      <td>0.077143</td>\n",
       "      <td>0.001847</td>\n",
       "      <td>1</td>\n",
       "    </tr>\n",
       "    <tr>\n",
       "      <th>...</th>\n",
       "      <td>...</td>\n",
       "      <td>...</td>\n",
       "      <td>...</td>\n",
       "      <td>...</td>\n",
       "      <td>...</td>\n",
       "      <td>...</td>\n",
       "      <td>...</td>\n",
       "      <td>...</td>\n",
       "      <td>...</td>\n",
       "    </tr>\n",
       "    <tr>\n",
       "      <th>199</th>\n",
       "      <td>0.223369</td>\n",
       "      <td>0.414259</td>\n",
       "      <td>0.558442</td>\n",
       "      <td>0.174176</td>\n",
       "      <td>0.999127</td>\n",
       "      <td>0.804706</td>\n",
       "      <td>0.008284</td>\n",
       "      <td>0.002116</td>\n",
       "      <td>1</td>\n",
       "    </tr>\n",
       "    <tr>\n",
       "      <th>200</th>\n",
       "      <td>0.982659</td>\n",
       "      <td>0.268749</td>\n",
       "      <td>0.234894</td>\n",
       "      <td>0.127649</td>\n",
       "      <td>0.007508</td>\n",
       "      <td>0.074458</td>\n",
       "      <td>0.457137</td>\n",
       "      <td>0.196939</td>\n",
       "      <td>0</td>\n",
       "    </tr>\n",
       "    <tr>\n",
       "      <th>201</th>\n",
       "      <td>0.989678</td>\n",
       "      <td>0.211016</td>\n",
       "      <td>0.070747</td>\n",
       "      <td>0.128587</td>\n",
       "      <td>0.006158</td>\n",
       "      <td>0.052612</td>\n",
       "      <td>0.499227</td>\n",
       "      <td>0.250619</td>\n",
       "      <td>0</td>\n",
       "    </tr>\n",
       "    <tr>\n",
       "      <th>202</th>\n",
       "      <td>0.986375</td>\n",
       "      <td>0.288977</td>\n",
       "      <td>0.205888</td>\n",
       "      <td>0.126919</td>\n",
       "      <td>0.012822</td>\n",
       "      <td>0.068553</td>\n",
       "      <td>0.357515</td>\n",
       "      <td>0.137675</td>\n",
       "      <td>0</td>\n",
       "    </tr>\n",
       "    <tr>\n",
       "      <th>203</th>\n",
       "      <td>1.000000</td>\n",
       "      <td>0.284847</td>\n",
       "      <td>0.126330</td>\n",
       "      <td>0.073223</td>\n",
       "      <td>0.009971</td>\n",
       "      <td>0.097760</td>\n",
       "      <td>0.406355</td>\n",
       "      <td>0.147959</td>\n",
       "      <td>0</td>\n",
       "    </tr>\n",
       "  </tbody>\n",
       "</table>\n",
       "<p>204 rows × 9 columns</p>\n",
       "</div>"
      ],
      "text/plain": [
       "          MIP     STDIP      EKIP       SIP        MC      STDC       EKC  \\\n",
       "0    0.988852  0.267196  0.252354  0.165954  0.011335  0.071655  0.393315   \n",
       "1    0.166391  0.479300  0.557995  0.207376  0.160766  0.616598  0.125296   \n",
       "2    0.992981  0.178583  0.141787  0.177886  0.009544  0.050400  0.440711   \n",
       "3    0.139967  0.064784  0.651744  0.549223  0.043477  0.332787  0.230759   \n",
       "4    0.160198  0.437008  0.519065  0.153639  0.386742  0.768935  0.077143   \n",
       "..        ...       ...       ...       ...       ...       ...       ...   \n",
       "199  0.223369  0.414259  0.558442  0.174176  0.999127  0.804706  0.008284   \n",
       "200  0.982659  0.268749  0.234894  0.127649  0.007508  0.074458  0.457137   \n",
       "201  0.989678  0.211016  0.070747  0.128587  0.006158  0.052612  0.499227   \n",
       "202  0.986375  0.288977  0.205888  0.126919  0.012822  0.068553  0.357515   \n",
       "203  1.000000  0.284847  0.126330  0.073223  0.009971  0.097760  0.406355   \n",
       "\n",
       "           SC  TARGET  \n",
       "0    0.154903       0  \n",
       "1    0.007057       1  \n",
       "2    0.213450       0  \n",
       "3    0.036206       1  \n",
       "4    0.001847       1  \n",
       "..        ...     ...  \n",
       "199  0.002116       1  \n",
       "200  0.196939       0  \n",
       "201  0.250619       0  \n",
       "202  0.137675       0  \n",
       "203  0.147959       0  \n",
       "\n",
       "[204 rows x 9 columns]"
      ]
     },
     "execution_count": 10,
     "metadata": {},
     "output_type": "execute_result"
    }
   ],
   "source": [
    "data"
   ]
  },
  {
   "cell_type": "code",
   "execution_count": 8,
   "id": "9f6cd6ca",
   "metadata": {},
   "outputs": [],
   "source": [
    "from sklearn.linear_model  import LogisticRegression"
   ]
  },
  {
   "cell_type": "code",
   "execution_count": 11,
   "id": "9e0ed23b",
   "metadata": {},
   "outputs": [],
   "source": [
    "x = pd.DataFrame(data.drop(['TARGET'], axis=1))\n",
    "Y = pd.DataFrame(data[\"TARGET\"])\n",
    "LR = LogisticRegression(random_state=2019, solver='lbfgs').fit(x,Y.values.ravel())"
   ]
  },
  {
   "cell_type": "code",
   "execution_count": 15,
   "id": "8c48e041",
   "metadata": {},
   "outputs": [],
   "source": [
    "y = LR.predict_proba([[0.363,0.178,0.43,0.292,0.575, 0.872, 0.023, 0.161]])"
   ]
  },
  {
   "cell_type": "code",
   "execution_count": 16,
   "id": "dc16bc70",
   "metadata": {},
   "outputs": [
    {
     "data": {
      "text/plain": [
       "array([[0.09489014, 0.90510986]])"
      ]
     },
     "execution_count": 16,
     "metadata": {},
     "output_type": "execute_result"
    }
   ],
   "source": [
    "y"
   ]
  },
  {
   "cell_type": "code",
   "execution_count": 19,
   "id": "c981c600",
   "metadata": {},
   "outputs": [
    {
     "data": {
      "text/plain": [
       "KMeans(n_clusters=2, random_state=1)"
      ]
     },
     "execution_count": 19,
     "metadata": {},
     "output_type": "execute_result"
    }
   ],
   "source": [
    "from sklearn.cluster import KMeans\n",
    "model = KMeans(n_clusters = 2, random_state = 1, n_init = 10)\n",
    "model.fit(x)"
   ]
  },
  {
   "cell_type": "code",
   "execution_count": 24,
   "id": "b62f808c",
   "metadata": {},
   "outputs": [
    {
     "data": {
      "text/plain": [
       "array([1], dtype=int64)"
      ]
     },
     "execution_count": 24,
     "metadata": {},
     "output_type": "execute_result"
    }
   ],
   "source": [
    "from sklearn.neighbors import KNeighborsClassifier \n",
    "neighbors = KNeighborsClassifier(n_neighbors=5, p=2) #кол соседей и установка метрики евклида\n",
    "neighbors.fit(x,Y.values.ravel())\n",
    "neighbors.predict([[0.363,0.178,0.43,0.292,0.575, 0.872, 0.023, 0.161]])"
   ]
  },
  {
   "cell_type": "code",
   "execution_count": 25,
   "id": "9aa40acb",
   "metadata": {},
   "outputs": [
    {
     "data": {
      "text/plain": [
       "(array([[0.24905632, 0.2662367 , 0.2752036 , 0.30420315, 0.34501207]]),\n",
       " array([[ 93, 106, 168, 198, 158]], dtype=int64))"
      ]
     },
     "execution_count": 25,
     "metadata": {},
     "output_type": "execute_result"
    }
   ],
   "source": [
    "neighbors.kneighbors([[0.363,0.178,0.43,0.292,0.575, 0.872, 0.023, 0.161]])"
   ]
  },
  {
   "cell_type": "code",
   "execution_count": null,
   "id": "96b3b14c",
   "metadata": {},
   "outputs": [],
   "source": []
  }
 ],
 "metadata": {
  "kernelspec": {
   "display_name": "Python 3 (ipykernel)",
   "language": "python",
   "name": "python3"
  },
  "language_info": {
   "codemirror_mode": {
    "name": "ipython",
    "version": 3
   },
   "file_extension": ".py",
   "mimetype": "text/x-python",
   "name": "python",
   "nbconvert_exporter": "python",
   "pygments_lexer": "ipython3",
   "version": "3.9.6"
  }
 },
 "nbformat": 4,
 "nbformat_minor": 5
}
